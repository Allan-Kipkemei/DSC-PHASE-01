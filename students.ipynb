{
 "cells": [
  {
   "cell_type": "markdown",
   "metadata": {},
   "source": [
    "# Microsoft's movie recommendation\n",
    "\n",
    "Flatiron School Data Science: Project 1\n",
    "- **Author**: Allan Kiplagat\n",
    "- **Instructor**: Asha Deen\n",
    "- **Pace**: Data Science Remote Full time \n",
    "- **DATE** : 20TH MARCH 2024\n"
   ]
  },
  {
   "cell_type": "markdown",
   "metadata": {},
   "source": []
  },
  {
   "cell_type": "markdown",
   "metadata": {},
   "source": [
    "## Overview\n",
    "\n",
    "This project analyzes data about the ratings and popularity of movies to make recommendations to Microsoft, which intends to launch its own movie studio. As a newcomer to the scene, Microsoft has asked for recommendations on what types of movies perform well among audiences. I have available to me movie datasets from Box Office Mojo, IMDb, Rotten Tomatoes, The Movie Database, and The Numbers. I derive my conclusions mainly from the **IMDb datasets**, which contain information about movies from 2010 to 2019, including, genres, average user rating, and the number of users who voted on each movie. As a result of the analysis, I was able to distill 10 well-peforming genres for Microsoft to focus on, as well as make recommendations about how much of its budget it should focus on 1) comedies and 2) animated movies."
   ]
  },
  {
   "cell_type": "markdown",
   "metadata": {},
   "source": [
    "## Business Problem\n",
    "\n",
    "**Measuing success:** A first instict might be to narrow down the attributes of movies that have the highest return-on-investment at the box office. However, in the streaming age, that might not be the best measure of success. Popular movies are increasingly being [released directly to streaming services](https://variety.com/2022/film/box-office/disney-pixar-turning-red-disney-plus-subscribers-1235149836/), and the COVID-19 pandemic has dissuaded many people from going to the theaters anymore. A better measure of success would be the number of people that will actually watch the movie. Whether Microsoft plans to sell its movies to distributors like Netflix or spin up its own streaming service to host the films, it needs to determine what kinds of movies are going to attract the most viewers in numbers.\n",
    "\n",
    "I use the **number of votes a movie has received** on IMDb as an analogue for the number of viewers. The votes may be negative or positive, but we can infer that a vote means someone actually watched the film. Using this metric, I attempt to answer these questions:\n",
    "\n",
    "- Which 10 genres tend to perform best?\n",
    "- How much should Microsoft focus on making comedies? \n",
    "- How much should Microsoft focus on making animated movies?"
   ]
  },
  {
   "cell_type": "markdown",
   "metadata": {},
   "source": [
    "## Data Understanding\n",
    "\n",
    "IMDb is one of the most popular websites for basic facts about movies and TV shows, as well as user reviews. It claims to have nearly [600,000 movies](https://www.imdb.com/pressroom/stats/) listed and is [ranked 75th](https://www.alexa.com/siteinfo/imdb.com) in in global internet engagement. \n",
    "\n",
    "The data I've been provided is housed in a SQL file, from which I primarily use two tables:\n",
    "- `movie_basics`: Contains information about each movie's name, release year, runtime, and genres.\n",
    "- `movie_ratings`: Contains a weighted average of all the individual user ratings and the number of votes a movie has received.\n",
    "\n",
    "More information [here](https://www.imdb.com/interfaces/).\n",
    "\n",
    "The two tables have a shared column `movie_id`, which is a unique identifier for each movie. I plan to group movies by genre to to see each genre's average rating and and average number of votes."
   ]
  },
  {
   "cell_type": "code",
   "execution_count": 2,
   "metadata": {},
   "outputs": [],
   "source": [
    "# Importing necessary libraries\n",
    "\n",
    "import pandas as pd\n",
    "import numpy as np\n",
    "import sqlite3\n",
    "import matplotlib.pyplot as plt\n",
    "import seaborn as sns\n",
    "import zipfile\n",
    "%matplotlib inline"
   ]
  },
  {
   "cell_type": "code",
   "execution_count": 3,
   "metadata": {},
   "outputs": [
    {
     "name": "stdout",
     "output_type": "stream",
     "text": [
      "bom.movie_gross.csv  bom.movie_gross.csv.gz  im.db  im.db.zip\n"
     ]
    }
   ],
   "source": [
    "! ls zippedData"
   ]
  },
  {
   "cell_type": "markdown",
   "metadata": {},
   "source": [
    "## Data Preparation"
   ]
  },
  {
   "cell_type": "markdown",
   "metadata": {},
   "source": [
    "#### Exloring the SQL database for IMDb"
   ]
  },
  {
   "cell_type": "code",
   "execution_count": 4,
   "metadata": {},
   "outputs": [],
   "source": [
    "with zipfile.ZipFile('zippedData/im.db.zip') as my_zip:\n",
    "    zipfile.ZipFile.extractall(my_zip, path='ZippedData')\n",
    "    \n",
    "# Created a new file called im.db\n",
    "# Added the file to .gitignore because it's too big to upload to GitHub"
   ]
  },
  {
   "cell_type": "code",
   "execution_count": 5,
   "metadata": {},
   "outputs": [],
   "source": [
    "con = sqlite3.connect('zippedData/im.db')"
   ]
  },
  {
   "cell_type": "code",
   "execution_count": 6,
   "metadata": {},
   "outputs": [
    {
     "data": {
      "text/html": [
       "<div>\n",
       "<style scoped>\n",
       "    .dataframe tbody tr th:only-of-type {\n",
       "        vertical-align: middle;\n",
       "    }\n",
       "\n",
       "    .dataframe tbody tr th {\n",
       "        vertical-align: top;\n",
       "    }\n",
       "\n",
       "    .dataframe thead th {\n",
       "        text-align: right;\n",
       "    }\n",
       "</style>\n",
       "<table border=\"1\" class=\"dataframe\">\n",
       "  <thead>\n",
       "    <tr style=\"text-align: right;\">\n",
       "      <th></th>\n",
       "      <th>type</th>\n",
       "      <th>name</th>\n",
       "      <th>tbl_name</th>\n",
       "      <th>rootpage</th>\n",
       "      <th>sql</th>\n",
       "    </tr>\n",
       "  </thead>\n",
       "  <tbody>\n",
       "    <tr>\n",
       "      <th>0</th>\n",
       "      <td>table</td>\n",
       "      <td>movie_basics</td>\n",
       "      <td>movie_basics</td>\n",
       "      <td>2</td>\n",
       "      <td>CREATE TABLE \"movie_basics\" (\\n\"movie_id\" TEXT...</td>\n",
       "    </tr>\n",
       "    <tr>\n",
       "      <th>1</th>\n",
       "      <td>table</td>\n",
       "      <td>directors</td>\n",
       "      <td>directors</td>\n",
       "      <td>3</td>\n",
       "      <td>CREATE TABLE \"directors\" (\\n\"movie_id\" TEXT,\\n...</td>\n",
       "    </tr>\n",
       "    <tr>\n",
       "      <th>2</th>\n",
       "      <td>table</td>\n",
       "      <td>known_for</td>\n",
       "      <td>known_for</td>\n",
       "      <td>4</td>\n",
       "      <td>CREATE TABLE \"known_for\" (\\n\"person_id\" TEXT,\\...</td>\n",
       "    </tr>\n",
       "    <tr>\n",
       "      <th>3</th>\n",
       "      <td>table</td>\n",
       "      <td>movie_akas</td>\n",
       "      <td>movie_akas</td>\n",
       "      <td>5</td>\n",
       "      <td>CREATE TABLE \"movie_akas\" (\\n\"movie_id\" TEXT,\\...</td>\n",
       "    </tr>\n",
       "    <tr>\n",
       "      <th>4</th>\n",
       "      <td>table</td>\n",
       "      <td>movie_ratings</td>\n",
       "      <td>movie_ratings</td>\n",
       "      <td>6</td>\n",
       "      <td>CREATE TABLE \"movie_ratings\" (\\n\"movie_id\" TEX...</td>\n",
       "    </tr>\n",
       "    <tr>\n",
       "      <th>5</th>\n",
       "      <td>table</td>\n",
       "      <td>persons</td>\n",
       "      <td>persons</td>\n",
       "      <td>7</td>\n",
       "      <td>CREATE TABLE \"persons\" (\\n\"person_id\" TEXT,\\n ...</td>\n",
       "    </tr>\n",
       "    <tr>\n",
       "      <th>6</th>\n",
       "      <td>table</td>\n",
       "      <td>principals</td>\n",
       "      <td>principals</td>\n",
       "      <td>8</td>\n",
       "      <td>CREATE TABLE \"principals\" (\\n\"movie_id\" TEXT,\\...</td>\n",
       "    </tr>\n",
       "    <tr>\n",
       "      <th>7</th>\n",
       "      <td>table</td>\n",
       "      <td>writers</td>\n",
       "      <td>writers</td>\n",
       "      <td>9</td>\n",
       "      <td>CREATE TABLE \"writers\" (\\n\"movie_id\" TEXT,\\n  ...</td>\n",
       "    </tr>\n",
       "  </tbody>\n",
       "</table>\n",
       "</div>"
      ],
      "text/plain": [
       "    type           name       tbl_name  rootpage  \\\n",
       "0  table   movie_basics   movie_basics         2   \n",
       "1  table      directors      directors         3   \n",
       "2  table      known_for      known_for         4   \n",
       "3  table     movie_akas     movie_akas         5   \n",
       "4  table  movie_ratings  movie_ratings         6   \n",
       "5  table        persons        persons         7   \n",
       "6  table     principals     principals         8   \n",
       "7  table        writers        writers         9   \n",
       "\n",
       "                                                 sql  \n",
       "0  CREATE TABLE \"movie_basics\" (\\n\"movie_id\" TEXT...  \n",
       "1  CREATE TABLE \"directors\" (\\n\"movie_id\" TEXT,\\n...  \n",
       "2  CREATE TABLE \"known_for\" (\\n\"person_id\" TEXT,\\...  \n",
       "3  CREATE TABLE \"movie_akas\" (\\n\"movie_id\" TEXT,\\...  \n",
       "4  CREATE TABLE \"movie_ratings\" (\\n\"movie_id\" TEX...  \n",
       "5  CREATE TABLE \"persons\" (\\n\"person_id\" TEXT,\\n ...  \n",
       "6  CREATE TABLE \"principals\" (\\n\"movie_id\" TEXT,\\...  \n",
       "7  CREATE TABLE \"writers\" (\\n\"movie_id\" TEXT,\\n  ...  "
      ]
     },
     "execution_count": 6,
     "metadata": {},
     "output_type": "execute_result"
    }
   ],
   "source": [
    "pd.read_sql(\"\"\"\n",
    "SELECT *\n",
    "FROM sqlite_schema\n",
    "WHERE type='table'\n",
    "\"\"\", con)"
   ]
  },
  {
   "cell_type": "markdown",
   "metadata": {},
   "source": [
    "### Merging the IMDb `movie_basics` and `movie_ratings` files:"
   ]
  },
  {
   "cell_type": "code",
   "execution_count": 7,
   "metadata": {},
   "outputs": [],
   "source": [
    "movies_w_ratings_imdb = pd.read_sql(\"\"\"\n",
    "SELECT * FROM movie_basics\n",
    "LEFT JOIN movie_ratings\n",
    "    USING(movie_id)\n",
    "\"\"\" , con)"
   ]
  },
  {
   "cell_type": "code",
   "execution_count": 8,
   "metadata": {},
   "outputs": [
    {
     "data": {
      "text/html": [
       "<div>\n",
       "<style scoped>\n",
       "    .dataframe tbody tr th:only-of-type {\n",
       "        vertical-align: middle;\n",
       "    }\n",
       "\n",
       "    .dataframe tbody tr th {\n",
       "        vertical-align: top;\n",
       "    }\n",
       "\n",
       "    .dataframe thead th {\n",
       "        text-align: right;\n",
       "    }\n",
       "</style>\n",
       "<table border=\"1\" class=\"dataframe\">\n",
       "  <thead>\n",
       "    <tr style=\"text-align: right;\">\n",
       "      <th></th>\n",
       "      <th>movie_id</th>\n",
       "      <th>primary_title</th>\n",
       "      <th>original_title</th>\n",
       "      <th>start_year</th>\n",
       "      <th>runtime_minutes</th>\n",
       "      <th>genres</th>\n",
       "      <th>averagerating</th>\n",
       "      <th>numvotes</th>\n",
       "    </tr>\n",
       "  </thead>\n",
       "  <tbody>\n",
       "    <tr>\n",
       "      <th>0</th>\n",
       "      <td>tt0063540</td>\n",
       "      <td>Sunghursh</td>\n",
       "      <td>Sunghursh</td>\n",
       "      <td>2013</td>\n",
       "      <td>175.0</td>\n",
       "      <td>Action,Crime,Drama</td>\n",
       "      <td>7.0</td>\n",
       "      <td>77.0</td>\n",
       "    </tr>\n",
       "    <tr>\n",
       "      <th>1</th>\n",
       "      <td>tt0066787</td>\n",
       "      <td>One Day Before the Rainy Season</td>\n",
       "      <td>Ashad Ka Ek Din</td>\n",
       "      <td>2019</td>\n",
       "      <td>114.0</td>\n",
       "      <td>Biography,Drama</td>\n",
       "      <td>7.2</td>\n",
       "      <td>43.0</td>\n",
       "    </tr>\n",
       "    <tr>\n",
       "      <th>2</th>\n",
       "      <td>tt0069049</td>\n",
       "      <td>The Other Side of the Wind</td>\n",
       "      <td>The Other Side of the Wind</td>\n",
       "      <td>2018</td>\n",
       "      <td>122.0</td>\n",
       "      <td>Drama</td>\n",
       "      <td>6.9</td>\n",
       "      <td>4517.0</td>\n",
       "    </tr>\n",
       "    <tr>\n",
       "      <th>3</th>\n",
       "      <td>tt0069204</td>\n",
       "      <td>Sabse Bada Sukh</td>\n",
       "      <td>Sabse Bada Sukh</td>\n",
       "      <td>2018</td>\n",
       "      <td>NaN</td>\n",
       "      <td>Comedy,Drama</td>\n",
       "      <td>6.1</td>\n",
       "      <td>13.0</td>\n",
       "    </tr>\n",
       "    <tr>\n",
       "      <th>4</th>\n",
       "      <td>tt0100275</td>\n",
       "      <td>The Wandering Soap Opera</td>\n",
       "      <td>La Telenovela Errante</td>\n",
       "      <td>2017</td>\n",
       "      <td>80.0</td>\n",
       "      <td>Comedy,Drama,Fantasy</td>\n",
       "      <td>6.5</td>\n",
       "      <td>119.0</td>\n",
       "    </tr>\n",
       "  </tbody>\n",
       "</table>\n",
       "</div>"
      ],
      "text/plain": [
       "    movie_id                    primary_title              original_title  \\\n",
       "0  tt0063540                        Sunghursh                   Sunghursh   \n",
       "1  tt0066787  One Day Before the Rainy Season             Ashad Ka Ek Din   \n",
       "2  tt0069049       The Other Side of the Wind  The Other Side of the Wind   \n",
       "3  tt0069204                  Sabse Bada Sukh             Sabse Bada Sukh   \n",
       "4  tt0100275         The Wandering Soap Opera       La Telenovela Errante   \n",
       "\n",
       "   start_year  runtime_minutes                genres  averagerating  numvotes  \n",
       "0        2013            175.0    Action,Crime,Drama            7.0      77.0  \n",
       "1        2019            114.0       Biography,Drama            7.2      43.0  \n",
       "2        2018            122.0                 Drama            6.9    4517.0  \n",
       "3        2018              NaN          Comedy,Drama            6.1      13.0  \n",
       "4        2017             80.0  Comedy,Drama,Fantasy            6.5     119.0  "
      ]
     },
     "execution_count": 8,
     "metadata": {},
     "output_type": "execute_result"
    }
   ],
   "source": [
    "# Preivew the resulting DataFrame\n",
    "movies_w_ratings_imdb.head()"
   ]
  },
  {
   "cell_type": "code",
   "execution_count": 9,
   "metadata": {},
   "outputs": [
    {
     "name": "stdout",
     "output_type": "stream",
     "text": [
      "<class 'pandas.core.frame.DataFrame'>\n",
      "RangeIndex: 146144 entries, 0 to 146143\n",
      "Data columns (total 8 columns):\n",
      " #   Column           Non-Null Count   Dtype  \n",
      "---  ------           --------------   -----  \n",
      " 0   movie_id         146144 non-null  object \n",
      " 1   primary_title    146144 non-null  object \n",
      " 2   original_title   146123 non-null  object \n",
      " 3   start_year       146144 non-null  int64  \n",
      " 4   runtime_minutes  114405 non-null  float64\n",
      " 5   genres           140736 non-null  object \n",
      " 6   averagerating    73856 non-null   float64\n",
      " 7   numvotes         73856 non-null   float64\n",
      "dtypes: float64(3), int64(1), object(4)\n",
      "memory usage: 8.9+ MB\n"
     ]
    }
   ],
   "source": [
    "movies_w_ratings_imdb.info()"
   ]
  },
  {
   "cell_type": "code",
   "execution_count": 10,
   "metadata": {
    "scrolled": true
   },
   "outputs": [
    {
     "data": {
      "text/plain": [
       "movie_id               0\n",
       "primary_title          0\n",
       "original_title        21\n",
       "start_year             0\n",
       "runtime_minutes    31739\n",
       "genres              5408\n",
       "averagerating      72288\n",
       "numvotes           72288\n",
       "dtype: int64"
      ]
     },
     "execution_count": 10,
     "metadata": {},
     "output_type": "execute_result"
    }
   ],
   "source": [
    "# Calculating the number of null values\n",
    "\n",
    "movies_w_ratings_imdb.isna().sum()"
   ]
  },
  {
   "cell_type": "code",
   "execution_count": 11,
   "metadata": {},
   "outputs": [
    {
     "data": {
      "text/plain": [
       "movie_id           0.000000\n",
       "primary_title      0.000000\n",
       "original_title     0.000144\n",
       "start_year         0.000000\n",
       "runtime_minutes    0.217176\n",
       "genres             0.037005\n",
       "averagerating      0.494635\n",
       "numvotes           0.494635\n",
       "dtype: float64"
      ]
     },
     "execution_count": 11,
     "metadata": {},
     "output_type": "execute_result"
    }
   ],
   "source": [
    "# Seeing the proportion of rows with null values\n",
    "\n",
    "movies_w_ratings_imdb.isna().sum()/len(movies_w_ratings_imdb)"
   ]
  },
  {
   "cell_type": "markdown",
   "metadata": {},
   "source": [
    "### There are several columns with null data to contend with.\n",
    "Let's start with the `averagerating` and `numvotes` columns."
   ]
  },
  {
   "cell_type": "code",
   "execution_count": 12,
   "metadata": {},
   "outputs": [
    {
     "data": {
      "text/plain": [
       "True"
      ]
     },
     "execution_count": 12,
     "metadata": {},
     "output_type": "execute_result"
    }
   ],
   "source": [
    "# Confirming that the two columns are null in all the same rows\n",
    "\n",
    "movies_w_ratings_imdb.isna()['averagerating'].equals(movies_w_ratings_imdb.isna()['numvotes'])"
   ]
  },
  {
   "cell_type": "markdown",
   "metadata": {},
   "source": [
    "### Below, we view a sample of the titles where there are no ratings or votes.\n",
    "\n",
    "They appear to be mostly niche titles, many with missing runtimes or runtimes under one hour. They are not representative of the content Microsoft wants to promote as it debuts its streaming service.\n",
    "\n",
    "Although they make up about half the dataset, we are not likely to derive any meaningful insight from these titles. Keeping them would disrupt our analysis and there's no value we can replace them with. For these reasons we'll drop these rows. Fortunately, our dataset will still have about 70,000 entries to work with."
   ]
  },
  {
   "cell_type": "code",
   "execution_count": 13,
   "metadata": {},
   "outputs": [],
   "source": [
    "NaN_movies_w_ratings_imdb = movies_w_ratings_imdb[\n",
    "    movies_w_ratings_imdb['numvotes'].isna()\n",
    "    ]"
   ]
  },
  {
   "cell_type": "code",
   "execution_count": 14,
   "metadata": {
    "scrolled": true
   },
   "outputs": [
    {
     "data": {
      "text/html": [
       "<div>\n",
       "<style scoped>\n",
       "    .dataframe tbody tr th:only-of-type {\n",
       "        vertical-align: middle;\n",
       "    }\n",
       "\n",
       "    .dataframe tbody tr th {\n",
       "        vertical-align: top;\n",
       "    }\n",
       "\n",
       "    .dataframe thead th {\n",
       "        text-align: right;\n",
       "    }\n",
       "</style>\n",
       "<table border=\"1\" class=\"dataframe\">\n",
       "  <thead>\n",
       "    <tr style=\"text-align: right;\">\n",
       "      <th></th>\n",
       "      <th>movie_id</th>\n",
       "      <th>primary_title</th>\n",
       "      <th>original_title</th>\n",
       "      <th>start_year</th>\n",
       "      <th>runtime_minutes</th>\n",
       "      <th>genres</th>\n",
       "      <th>averagerating</th>\n",
       "      <th>numvotes</th>\n",
       "    </tr>\n",
       "  </thead>\n",
       "  <tbody>\n",
       "    <tr>\n",
       "      <th>5</th>\n",
       "      <td>tt0111414</td>\n",
       "      <td>A Thin Life</td>\n",
       "      <td>A Thin Life</td>\n",
       "      <td>2018</td>\n",
       "      <td>75.0</td>\n",
       "      <td>Comedy</td>\n",
       "      <td>NaN</td>\n",
       "      <td>NaN</td>\n",
       "    </tr>\n",
       "    <tr>\n",
       "      <th>8</th>\n",
       "      <td>tt0139613</td>\n",
       "      <td>O Silêncio</td>\n",
       "      <td>O Silêncio</td>\n",
       "      <td>2012</td>\n",
       "      <td>NaN</td>\n",
       "      <td>Documentary,History</td>\n",
       "      <td>NaN</td>\n",
       "      <td>NaN</td>\n",
       "    </tr>\n",
       "    <tr>\n",
       "      <th>9</th>\n",
       "      <td>tt0144449</td>\n",
       "      <td>Nema aviona za Zagreb</td>\n",
       "      <td>Nema aviona za Zagreb</td>\n",
       "      <td>2012</td>\n",
       "      <td>82.0</td>\n",
       "      <td>Biography</td>\n",
       "      <td>NaN</td>\n",
       "      <td>NaN</td>\n",
       "    </tr>\n",
       "    <tr>\n",
       "      <th>16</th>\n",
       "      <td>tt0187902</td>\n",
       "      <td>How Huang Fei-hong Rescued the Orphan from the...</td>\n",
       "      <td>How Huang Fei-hong Rescued the Orphan from the...</td>\n",
       "      <td>2011</td>\n",
       "      <td>NaN</td>\n",
       "      <td>None</td>\n",
       "      <td>NaN</td>\n",
       "      <td>NaN</td>\n",
       "    </tr>\n",
       "    <tr>\n",
       "      <th>25</th>\n",
       "      <td>tt0262759</td>\n",
       "      <td>Seven Jews from My Class</td>\n",
       "      <td>Siedmiu Zydów z mojej klasy</td>\n",
       "      <td>2018</td>\n",
       "      <td>40.0</td>\n",
       "      <td>Documentary</td>\n",
       "      <td>NaN</td>\n",
       "      <td>NaN</td>\n",
       "    </tr>\n",
       "  </tbody>\n",
       "</table>\n",
       "</div>"
      ],
      "text/plain": [
       "     movie_id                                      primary_title  \\\n",
       "5   tt0111414                                        A Thin Life   \n",
       "8   tt0139613                                         O Silêncio   \n",
       "9   tt0144449                              Nema aviona za Zagreb   \n",
       "16  tt0187902  How Huang Fei-hong Rescued the Orphan from the...   \n",
       "25  tt0262759                           Seven Jews from My Class   \n",
       "\n",
       "                                       original_title  start_year  \\\n",
       "5                                         A Thin Life        2018   \n",
       "8                                          O Silêncio        2012   \n",
       "9                               Nema aviona za Zagreb        2012   \n",
       "16  How Huang Fei-hong Rescued the Orphan from the...        2011   \n",
       "25                        Siedmiu Zydów z mojej klasy        2018   \n",
       "\n",
       "    runtime_minutes               genres  averagerating  numvotes  \n",
       "5              75.0               Comedy            NaN       NaN  \n",
       "8               NaN  Documentary,History            NaN       NaN  \n",
       "9              82.0            Biography            NaN       NaN  \n",
       "16              NaN                 None            NaN       NaN  \n",
       "25             40.0          Documentary            NaN       NaN  "
      ]
     },
     "execution_count": 14,
     "metadata": {},
     "output_type": "execute_result"
    }
   ],
   "source": [
    "NaN_movies_w_ratings_imdb.head()"
   ]
  },
  {
   "cell_type": "code",
   "execution_count": 15,
   "metadata": {},
   "outputs": [],
   "source": [
    "# Dropping titles with no votes or rating\n",
    "\n",
    "movies_w_ratings_imdb.dropna(subset=['numvotes'], inplace=True)"
   ]
  },
  {
   "cell_type": "code",
   "execution_count": 16,
   "metadata": {},
   "outputs": [
    {
     "name": "stdout",
     "output_type": "stream",
     "text": [
      "Number of null ratings: 0\n",
      "Number of null vote counts: 0\n"
     ]
    }
   ],
   "source": [
    "# confirming that this worked for both the numvotes and averagerating columns:\n",
    "\n",
    "print('Number of null ratings:',\n",
    "      movies_w_ratings_imdb['averagerating'].isnull().sum()\n",
    "     )\n",
    "\n",
    "print('Number of null vote counts:',\n",
    "      movies_w_ratings_imdb['numvotes'].isnull().sum()\n",
    "     )"
   ]
  },
  {
   "cell_type": "code",
   "execution_count": 17,
   "metadata": {},
   "outputs": [
    {
     "name": "stdout",
     "output_type": "stream",
     "text": [
      "<class 'pandas.core.frame.DataFrame'>\n",
      "Index: 73856 entries, 0 to 146134\n",
      "Data columns (total 8 columns):\n",
      " #   Column           Non-Null Count  Dtype  \n",
      "---  ------           --------------  -----  \n",
      " 0   movie_id         73856 non-null  object \n",
      " 1   primary_title    73856 non-null  object \n",
      " 2   original_title   73856 non-null  object \n",
      " 3   start_year       73856 non-null  int64  \n",
      " 4   runtime_minutes  66236 non-null  float64\n",
      " 5   genres           73052 non-null  object \n",
      " 6   averagerating    73856 non-null  float64\n",
      " 7   numvotes         73856 non-null  float64\n",
      "dtypes: float64(3), int64(1), object(4)\n",
      "memory usage: 5.1+ MB\n"
     ]
    }
   ],
   "source": [
    "# Reminding myself of the basic info in the dataset \n",
    "movies_w_ratings_imdb.info()"
   ]
  },
  {
   "cell_type": "code",
   "execution_count": 18,
   "metadata": {},
   "outputs": [
    {
     "data": {
      "text/plain": [
       "movie_id           0.000000\n",
       "primary_title      0.000000\n",
       "original_title     0.000000\n",
       "start_year         0.000000\n",
       "runtime_minutes    0.103174\n",
       "genres             0.010886\n",
       "averagerating      0.000000\n",
       "numvotes           0.000000\n",
       "dtype: float64"
      ]
     },
     "execution_count": 18,
     "metadata": {},
     "output_type": "execute_result"
    }
   ],
   "source": [
    "movies_w_ratings_imdb.isna().sum()/len(movies_w_ratings_imdb)"
   ]
  },
  {
   "cell_type": "markdown",
   "metadata": {},
   "source": [
    "### In the remaining dataset, about 1 percent of the titles are missing genres. \n",
    "#### Since genres are going to be central to our recommendations, I'll drop those rows, too."
   ]
  },
  {
   "cell_type": "code",
   "execution_count": 19,
   "metadata": {},
   "outputs": [],
   "source": [
    "# Dropping titles with no genres listed.\n",
    "\n",
    "movies_w_ratings_imdb.dropna(subset=['genres'], inplace=True)"
   ]
  },
  {
   "cell_type": "markdown",
   "metadata": {},
   "source": [
    "### Dealing with duplicates"
   ]
  },
  {
   "cell_type": "code",
   "execution_count": 20,
   "metadata": {},
   "outputs": [
    {
     "data": {
      "text/plain": [
       "0"
      ]
     },
     "execution_count": 20,
     "metadata": {},
     "output_type": "execute_result"
    }
   ],
   "source": [
    "movies_w_ratings_imdb.duplicated().sum()"
   ]
  },
  {
   "cell_type": "code",
   "execution_count": 21,
   "metadata": {
    "scrolled": true
   },
   "outputs": [
    {
     "data": {
      "text/plain": [
       "2707"
      ]
     },
     "execution_count": 21,
     "metadata": {},
     "output_type": "execute_result"
    }
   ],
   "source": [
    "movies_w_ratings_imdb.duplicated(subset='original_title').sum()"
   ]
  },
  {
   "cell_type": "markdown",
   "metadata": {},
   "source": [
    "There are more than 2,700 movies with the same name. But that doesn't mean they're duplicates. It could just be a coincidence.\n",
    "\n",
    "Let's see if there are movies with the same name, runtime, and year."
   ]
  },
  {
   "cell_type": "code",
   "execution_count": 22,
   "metadata": {},
   "outputs": [
    {
     "data": {
      "text/html": [
       "<div>\n",
       "<style scoped>\n",
       "    .dataframe tbody tr th:only-of-type {\n",
       "        vertical-align: middle;\n",
       "    }\n",
       "\n",
       "    .dataframe tbody tr th {\n",
       "        vertical-align: top;\n",
       "    }\n",
       "\n",
       "    .dataframe thead th {\n",
       "        text-align: right;\n",
       "    }\n",
       "</style>\n",
       "<table border=\"1\" class=\"dataframe\">\n",
       "  <thead>\n",
       "    <tr style=\"text-align: right;\">\n",
       "      <th></th>\n",
       "      <th>movie_id</th>\n",
       "      <th>primary_title</th>\n",
       "      <th>original_title</th>\n",
       "      <th>start_year</th>\n",
       "      <th>runtime_minutes</th>\n",
       "      <th>genres</th>\n",
       "      <th>averagerating</th>\n",
       "      <th>numvotes</th>\n",
       "    </tr>\n",
       "  </thead>\n",
       "  <tbody>\n",
       "    <tr>\n",
       "      <th>2658</th>\n",
       "      <td>tt10275936</td>\n",
       "      <td>Raggarjävlar (Swedish Greasers)</td>\n",
       "      <td>Raggarjävlar (Swedish Greasers)</td>\n",
       "      <td>2019</td>\n",
       "      <td>70.0</td>\n",
       "      <td>Documentary</td>\n",
       "      <td>6.9</td>\n",
       "      <td>47.0</td>\n",
       "    </tr>\n",
       "    <tr>\n",
       "      <th>11830</th>\n",
       "      <td>tt1644694</td>\n",
       "      <td>The Gift</td>\n",
       "      <td>The Gift</td>\n",
       "      <td>2010</td>\n",
       "      <td>NaN</td>\n",
       "      <td>Animation,Drama</td>\n",
       "      <td>5.9</td>\n",
       "      <td>7.0</td>\n",
       "    </tr>\n",
       "    <tr>\n",
       "      <th>12984</th>\n",
       "      <td>tt1674217</td>\n",
       "      <td>Transit</td>\n",
       "      <td>Transit</td>\n",
       "      <td>2010</td>\n",
       "      <td>80.0</td>\n",
       "      <td>Biography,Documentary,Family</td>\n",
       "      <td>6.7</td>\n",
       "      <td>13.0</td>\n",
       "    </tr>\n",
       "    <tr>\n",
       "      <th>19111</th>\n",
       "      <td>tt1825978</td>\n",
       "      <td>The Artist</td>\n",
       "      <td>The Artist</td>\n",
       "      <td>2011</td>\n",
       "      <td>100.0</td>\n",
       "      <td>Thriller</td>\n",
       "      <td>6.8</td>\n",
       "      <td>6.0</td>\n",
       "    </tr>\n",
       "    <tr>\n",
       "      <th>23887</th>\n",
       "      <td>tt1967651</td>\n",
       "      <td>Unconditional Love</td>\n",
       "      <td>Unconditional</td>\n",
       "      <td>2012</td>\n",
       "      <td>92.0</td>\n",
       "      <td>Drama,Thriller</td>\n",
       "      <td>5.6</td>\n",
       "      <td>660.0</td>\n",
       "    </tr>\n",
       "    <tr>\n",
       "      <th>24139</th>\n",
       "      <td>tt1977822</td>\n",
       "      <td>Inside</td>\n",
       "      <td>Inside</td>\n",
       "      <td>2012</td>\n",
       "      <td>85.0</td>\n",
       "      <td>Horror</td>\n",
       "      <td>4.0</td>\n",
       "      <td>397.0</td>\n",
       "    </tr>\n",
       "    <tr>\n",
       "      <th>33380</th>\n",
       "      <td>tt2246595</td>\n",
       "      <td>Blood Money</td>\n",
       "      <td>Blood Money</td>\n",
       "      <td>2012</td>\n",
       "      <td>109.0</td>\n",
       "      <td>Action,Drama,Thriller</td>\n",
       "      <td>5.2</td>\n",
       "      <td>881.0</td>\n",
       "    </tr>\n",
       "    <tr>\n",
       "      <th>37698</th>\n",
       "      <td>tt2363471</td>\n",
       "      <td>The Summit</td>\n",
       "      <td>The Summit</td>\n",
       "      <td>2012</td>\n",
       "      <td>95.0</td>\n",
       "      <td>Adventure,Documentary</td>\n",
       "      <td>6.9</td>\n",
       "      <td>4147.0</td>\n",
       "    </tr>\n",
       "    <tr>\n",
       "      <th>47280</th>\n",
       "      <td>tt2805202</td>\n",
       "      <td>Rise of the Undead</td>\n",
       "      <td>Rise of the Undead</td>\n",
       "      <td>2013</td>\n",
       "      <td>70.0</td>\n",
       "      <td>Action</td>\n",
       "      <td>4.2</td>\n",
       "      <td>20.0</td>\n",
       "    </tr>\n",
       "    <tr>\n",
       "      <th>50941</th>\n",
       "      <td>tt3019098</td>\n",
       "      <td>The Last Act</td>\n",
       "      <td>The Last Act</td>\n",
       "      <td>2012</td>\n",
       "      <td>NaN</td>\n",
       "      <td>Thriller</td>\n",
       "      <td>5.7</td>\n",
       "      <td>6.0</td>\n",
       "    </tr>\n",
       "    <tr>\n",
       "      <th>72877</th>\n",
       "      <td>tt4156972</td>\n",
       "      <td>Opening Night</td>\n",
       "      <td>Opening Night</td>\n",
       "      <td>2016</td>\n",
       "      <td>90.0</td>\n",
       "      <td>Comedy,Musical</td>\n",
       "      <td>6.3</td>\n",
       "      <td>2299.0</td>\n",
       "    </tr>\n",
       "    <tr>\n",
       "      <th>80877</th>\n",
       "      <td>tt4649330</td>\n",
       "      <td>Eso que llaman amor</td>\n",
       "      <td>Eso que llaman amor</td>\n",
       "      <td>2015</td>\n",
       "      <td>NaN</td>\n",
       "      <td>Drama</td>\n",
       "      <td>6.7</td>\n",
       "      <td>32.0</td>\n",
       "    </tr>\n",
       "    <tr>\n",
       "      <th>88715</th>\n",
       "      <td>tt5136180</td>\n",
       "      <td>A Courtship</td>\n",
       "      <td>A Courtship</td>\n",
       "      <td>2015</td>\n",
       "      <td>71.0</td>\n",
       "      <td>Documentary</td>\n",
       "      <td>6.3</td>\n",
       "      <td>7.0</td>\n",
       "    </tr>\n",
       "    <tr>\n",
       "      <th>103321</th>\n",
       "      <td>tt6052236</td>\n",
       "      <td>The Wonderful Digby</td>\n",
       "      <td>The Wonderful Digby</td>\n",
       "      <td>2016</td>\n",
       "      <td>82.0</td>\n",
       "      <td>Biography,Documentary,Music</td>\n",
       "      <td>7.7</td>\n",
       "      <td>6.0</td>\n",
       "    </tr>\n",
       "    <tr>\n",
       "      <th>103646</th>\n",
       "      <td>tt6073736</td>\n",
       "      <td>Almost Dead</td>\n",
       "      <td>Almost Dead</td>\n",
       "      <td>2016</td>\n",
       "      <td>85.0</td>\n",
       "      <td>Horror</td>\n",
       "      <td>1.9</td>\n",
       "      <td>17.0</td>\n",
       "    </tr>\n",
       "    <tr>\n",
       "      <th>109186</th>\n",
       "      <td>tt6417762</td>\n",
       "      <td>Happy New Year</td>\n",
       "      <td>Happy New Year</td>\n",
       "      <td>2017</td>\n",
       "      <td>NaN</td>\n",
       "      <td>Drama,Romance</td>\n",
       "      <td>7.4</td>\n",
       "      <td>29.0</td>\n",
       "    </tr>\n",
       "    <tr>\n",
       "      <th>116144</th>\n",
       "      <td>tt6896536</td>\n",
       "      <td>Foxtrot</td>\n",
       "      <td>Foxtrot</td>\n",
       "      <td>2017</td>\n",
       "      <td>113.0</td>\n",
       "      <td>Drama</td>\n",
       "      <td>7.4</td>\n",
       "      <td>4910.0</td>\n",
       "    </tr>\n",
       "    <tr>\n",
       "      <th>140322</th>\n",
       "      <td>tt9097086</td>\n",
       "      <td>Together</td>\n",
       "      <td>Together</td>\n",
       "      <td>2018</td>\n",
       "      <td>84.0</td>\n",
       "      <td>Drama</td>\n",
       "      <td>7.2</td>\n",
       "      <td>35.0</td>\n",
       "    </tr>\n",
       "  </tbody>\n",
       "</table>\n",
       "</div>"
      ],
      "text/plain": [
       "          movie_id                    primary_title  \\\n",
       "2658    tt10275936  Raggarjävlar (Swedish Greasers)   \n",
       "11830    tt1644694                         The Gift   \n",
       "12984    tt1674217                          Transit   \n",
       "19111    tt1825978                       The Artist   \n",
       "23887    tt1967651               Unconditional Love   \n",
       "24139    tt1977822                           Inside   \n",
       "33380    tt2246595                      Blood Money   \n",
       "37698    tt2363471                       The Summit   \n",
       "47280    tt2805202               Rise of the Undead   \n",
       "50941    tt3019098                     The Last Act   \n",
       "72877    tt4156972                    Opening Night   \n",
       "80877    tt4649330              Eso que llaman amor   \n",
       "88715    tt5136180                      A Courtship   \n",
       "103321   tt6052236              The Wonderful Digby   \n",
       "103646   tt6073736                      Almost Dead   \n",
       "109186   tt6417762                   Happy New Year   \n",
       "116144   tt6896536                          Foxtrot   \n",
       "140322   tt9097086                         Together   \n",
       "\n",
       "                         original_title  start_year  runtime_minutes  \\\n",
       "2658    Raggarjävlar (Swedish Greasers)        2019             70.0   \n",
       "11830                          The Gift        2010              NaN   \n",
       "12984                           Transit        2010             80.0   \n",
       "19111                        The Artist        2011            100.0   \n",
       "23887                     Unconditional        2012             92.0   \n",
       "24139                            Inside        2012             85.0   \n",
       "33380                       Blood Money        2012            109.0   \n",
       "37698                        The Summit        2012             95.0   \n",
       "47280                Rise of the Undead        2013             70.0   \n",
       "50941                      The Last Act        2012              NaN   \n",
       "72877                     Opening Night        2016             90.0   \n",
       "80877               Eso que llaman amor        2015              NaN   \n",
       "88715                       A Courtship        2015             71.0   \n",
       "103321              The Wonderful Digby        2016             82.0   \n",
       "103646                      Almost Dead        2016             85.0   \n",
       "109186                   Happy New Year        2017              NaN   \n",
       "116144                          Foxtrot        2017            113.0   \n",
       "140322                         Together        2018             84.0   \n",
       "\n",
       "                              genres  averagerating  numvotes  \n",
       "2658                     Documentary            6.9      47.0  \n",
       "11830                Animation,Drama            5.9       7.0  \n",
       "12984   Biography,Documentary,Family            6.7      13.0  \n",
       "19111                       Thriller            6.8       6.0  \n",
       "23887                 Drama,Thriller            5.6     660.0  \n",
       "24139                         Horror            4.0     397.0  \n",
       "33380          Action,Drama,Thriller            5.2     881.0  \n",
       "37698          Adventure,Documentary            6.9    4147.0  \n",
       "47280                         Action            4.2      20.0  \n",
       "50941                       Thriller            5.7       6.0  \n",
       "72877                 Comedy,Musical            6.3    2299.0  \n",
       "80877                          Drama            6.7      32.0  \n",
       "88715                    Documentary            6.3       7.0  \n",
       "103321   Biography,Documentary,Music            7.7       6.0  \n",
       "103646                        Horror            1.9      17.0  \n",
       "109186                 Drama,Romance            7.4      29.0  \n",
       "116144                         Drama            7.4    4910.0  \n",
       "140322                         Drama            7.2      35.0  "
      ]
     },
     "execution_count": 22,
     "metadata": {},
     "output_type": "execute_result"
    }
   ],
   "source": [
    "movies_w_ratings_imdb[\n",
    "    movies_w_ratings_imdb.duplicated(\n",
    "        subset=['original_title',\n",
    "                'runtime_minutes', \n",
    "                'start_year'\n",
    "               ]\n",
    "    )\n",
    "]"
   ]
  },
  {
   "cell_type": "markdown",
   "metadata": {},
   "source": [
    "**We should delete the duplicates, but we should keep the version with the higher vote count, as it's the version that IMDb users will more likely come across.**"
   ]
  },
  {
   "cell_type": "code",
   "execution_count": 23,
   "metadata": {},
   "outputs": [],
   "source": [
    "# Sorting the dataset by vote count\n",
    "\n",
    "movies_w_ratings_imdb.sort_values(\n",
    "    by='numvotes',\n",
    "    ascending=False, \n",
    "    inplace=True\n",
    ")"
   ]
  },
  {
   "cell_type": "code",
   "execution_count": 24,
   "metadata": {},
   "outputs": [],
   "source": [
    "# Dropping the duplicates\n",
    "\n",
    "movies_w_ratings_imdb.drop_duplicates(\n",
    "    subset=[\n",
    "        'original_title', \n",
    "        'runtime_minutes', \n",
    "        'start_year'\n",
    "    ], \n",
    "    inplace=True, \n",
    "    keep='first'\n",
    ")"
   ]
  },
  {
   "cell_type": "code",
   "execution_count": 25,
   "metadata": {
    "scrolled": false
   },
   "outputs": [
    {
     "data": {
      "text/html": [
       "<div>\n",
       "<style scoped>\n",
       "    .dataframe tbody tr th:only-of-type {\n",
       "        vertical-align: middle;\n",
       "    }\n",
       "\n",
       "    .dataframe tbody tr th {\n",
       "        vertical-align: top;\n",
       "    }\n",
       "\n",
       "    .dataframe thead th {\n",
       "        text-align: right;\n",
       "    }\n",
       "</style>\n",
       "<table border=\"1\" class=\"dataframe\">\n",
       "  <thead>\n",
       "    <tr style=\"text-align: right;\">\n",
       "      <th></th>\n",
       "      <th>movie_id</th>\n",
       "      <th>primary_title</th>\n",
       "      <th>original_title</th>\n",
       "      <th>start_year</th>\n",
       "      <th>runtime_minutes</th>\n",
       "      <th>genres</th>\n",
       "      <th>averagerating</th>\n",
       "      <th>numvotes</th>\n",
       "    </tr>\n",
       "  </thead>\n",
       "  <tbody>\n",
       "    <tr>\n",
       "      <th>7066</th>\n",
       "      <td>tt1375666</td>\n",
       "      <td>Inception</td>\n",
       "      <td>Inception</td>\n",
       "      <td>2010</td>\n",
       "      <td>148.0</td>\n",
       "      <td>Action,Adventure,Sci-Fi</td>\n",
       "      <td>8.8</td>\n",
       "      <td>1841066.0</td>\n",
       "    </tr>\n",
       "    <tr>\n",
       "      <th>6900</th>\n",
       "      <td>tt1345836</td>\n",
       "      <td>The Dark Knight Rises</td>\n",
       "      <td>The Dark Knight Rises</td>\n",
       "      <td>2012</td>\n",
       "      <td>164.0</td>\n",
       "      <td>Action,Thriller</td>\n",
       "      <td>8.4</td>\n",
       "      <td>1387769.0</td>\n",
       "    </tr>\n",
       "    <tr>\n",
       "      <th>311</th>\n",
       "      <td>tt0816692</td>\n",
       "      <td>Interstellar</td>\n",
       "      <td>Interstellar</td>\n",
       "      <td>2014</td>\n",
       "      <td>169.0</td>\n",
       "      <td>Adventure,Drama,Sci-Fi</td>\n",
       "      <td>8.6</td>\n",
       "      <td>1299334.0</td>\n",
       "    </tr>\n",
       "    <tr>\n",
       "      <th>20342</th>\n",
       "      <td>tt1853728</td>\n",
       "      <td>Django Unchained</td>\n",
       "      <td>Django Unchained</td>\n",
       "      <td>2012</td>\n",
       "      <td>165.0</td>\n",
       "      <td>Drama,Western</td>\n",
       "      <td>8.4</td>\n",
       "      <td>1211405.0</td>\n",
       "    </tr>\n",
       "    <tr>\n",
       "      <th>356</th>\n",
       "      <td>tt0848228</td>\n",
       "      <td>The Avengers</td>\n",
       "      <td>The Avengers</td>\n",
       "      <td>2012</td>\n",
       "      <td>143.0</td>\n",
       "      <td>Action,Adventure,Sci-Fi</td>\n",
       "      <td>8.1</td>\n",
       "      <td>1183655.0</td>\n",
       "    </tr>\n",
       "  </tbody>\n",
       "</table>\n",
       "</div>"
      ],
      "text/plain": [
       "        movie_id          primary_title         original_title  start_year  \\\n",
       "7066   tt1375666              Inception              Inception        2010   \n",
       "6900   tt1345836  The Dark Knight Rises  The Dark Knight Rises        2012   \n",
       "311    tt0816692           Interstellar           Interstellar        2014   \n",
       "20342  tt1853728       Django Unchained       Django Unchained        2012   \n",
       "356    tt0848228           The Avengers           The Avengers        2012   \n",
       "\n",
       "       runtime_minutes                   genres  averagerating   numvotes  \n",
       "7066             148.0  Action,Adventure,Sci-Fi            8.8  1841066.0  \n",
       "6900             164.0          Action,Thriller            8.4  1387769.0  \n",
       "311              169.0   Adventure,Drama,Sci-Fi            8.6  1299334.0  \n",
       "20342            165.0            Drama,Western            8.4  1211405.0  \n",
       "356              143.0  Action,Adventure,Sci-Fi            8.1  1183655.0  "
      ]
     },
     "execution_count": 25,
     "metadata": {},
     "output_type": "execute_result"
    }
   ],
   "source": [
    "movies_w_ratings_imdb.head()"
   ]
  },
  {
   "cell_type": "markdown",
   "metadata": {},
   "source": [
    "### Dealing with the `genres` column:\n",
    "\n",
    "The values in the genres column contain multiple genres separated by a comma. I'll need to split them up them somehow.\n",
    "\n",
    "I can use the **`df.explode()`** method to separate them. But first I'll need to convert the value from a string to an list."
   ]
  },
  {
   "cell_type": "code",
   "execution_count": 26,
   "metadata": {},
   "outputs": [],
   "source": [
    "# Creating a new dataframe because I may want to use this one in a later analysis.\n",
    "\n",
    "clean_genres = movies_w_ratings_imdb.copy()"
   ]
  },
  {
   "cell_type": "code",
   "execution_count": 27,
   "metadata": {},
   "outputs": [],
   "source": [
    "# Changing each entry in 'genres' from a string into a list\n",
    "\n",
    "clean_genres['genres'] = clean_genres['genres'].str.split(',')"
   ]
  },
  {
   "cell_type": "code",
   "execution_count": 28,
   "metadata": {
    "scrolled": true
   },
   "outputs": [
    {
     "data": {
      "text/html": [
       "<div>\n",
       "<style scoped>\n",
       "    .dataframe tbody tr th:only-of-type {\n",
       "        vertical-align: middle;\n",
       "    }\n",
       "\n",
       "    .dataframe tbody tr th {\n",
       "        vertical-align: top;\n",
       "    }\n",
       "\n",
       "    .dataframe thead th {\n",
       "        text-align: right;\n",
       "    }\n",
       "</style>\n",
       "<table border=\"1\" class=\"dataframe\">\n",
       "  <thead>\n",
       "    <tr style=\"text-align: right;\">\n",
       "      <th></th>\n",
       "      <th>movie_id</th>\n",
       "      <th>primary_title</th>\n",
       "      <th>original_title</th>\n",
       "      <th>start_year</th>\n",
       "      <th>runtime_minutes</th>\n",
       "      <th>genres</th>\n",
       "      <th>averagerating</th>\n",
       "      <th>numvotes</th>\n",
       "    </tr>\n",
       "  </thead>\n",
       "  <tbody>\n",
       "    <tr>\n",
       "      <th>7066</th>\n",
       "      <td>tt1375666</td>\n",
       "      <td>Inception</td>\n",
       "      <td>Inception</td>\n",
       "      <td>2010</td>\n",
       "      <td>148.0</td>\n",
       "      <td>[Action, Adventure, Sci-Fi]</td>\n",
       "      <td>8.8</td>\n",
       "      <td>1841066.0</td>\n",
       "    </tr>\n",
       "    <tr>\n",
       "      <th>6900</th>\n",
       "      <td>tt1345836</td>\n",
       "      <td>The Dark Knight Rises</td>\n",
       "      <td>The Dark Knight Rises</td>\n",
       "      <td>2012</td>\n",
       "      <td>164.0</td>\n",
       "      <td>[Action, Thriller]</td>\n",
       "      <td>8.4</td>\n",
       "      <td>1387769.0</td>\n",
       "    </tr>\n",
       "    <tr>\n",
       "      <th>311</th>\n",
       "      <td>tt0816692</td>\n",
       "      <td>Interstellar</td>\n",
       "      <td>Interstellar</td>\n",
       "      <td>2014</td>\n",
       "      <td>169.0</td>\n",
       "      <td>[Adventure, Drama, Sci-Fi]</td>\n",
       "      <td>8.6</td>\n",
       "      <td>1299334.0</td>\n",
       "    </tr>\n",
       "  </tbody>\n",
       "</table>\n",
       "</div>"
      ],
      "text/plain": [
       "       movie_id          primary_title         original_title  start_year  \\\n",
       "7066  tt1375666              Inception              Inception        2010   \n",
       "6900  tt1345836  The Dark Knight Rises  The Dark Knight Rises        2012   \n",
       "311   tt0816692           Interstellar           Interstellar        2014   \n",
       "\n",
       "      runtime_minutes                       genres  averagerating   numvotes  \n",
       "7066            148.0  [Action, Adventure, Sci-Fi]            8.8  1841066.0  \n",
       "6900            164.0           [Action, Thriller]            8.4  1387769.0  \n",
       "311             169.0   [Adventure, Drama, Sci-Fi]            8.6  1299334.0  "
      ]
     },
     "execution_count": 28,
     "metadata": {},
     "output_type": "execute_result"
    }
   ],
   "source": [
    "clean_genres.head(3)"
   ]
  },
  {
   "cell_type": "code",
   "execution_count": 29,
   "metadata": {},
   "outputs": [],
   "source": [
    "# Creating a list of all unique genres, now that we can iterate through them.\n",
    "\n",
    "genres_all = set()\n",
    "genres_column = clean_genres['genres']\n",
    "\n",
    "for glist in genres_column:\n",
    "    for g in glist:\n",
    "        genres_all.add(g)"
   ]
  },
  {
   "cell_type": "code",
   "execution_count": 30,
   "metadata": {
    "scrolled": true
   },
   "outputs": [
    {
     "name": "stdout",
     "output_type": "stream",
     "text": [
      "There are 26 genres in our IMDb dataset. They are:\n",
      "\n",
      " {'History', 'Fantasy', 'Crime', 'Reality-TV', 'Action', 'Western', 'Game-Show', 'Thriller', 'Musical', 'Documentary', 'Horror', 'Sci-Fi', 'Short', 'Romance', 'Adventure', 'Biography', 'War', 'Adult', 'Comedy', 'Animation', 'Drama', 'Mystery', 'Music', 'News', 'Sport', 'Family'}.\n"
     ]
    }
   ],
   "source": [
    "print(f'There are {len(genres_all)} genres in our IMDb dataset. They are:\\n\\n {genres_all}.')"
   ]
  },
  {
   "cell_type": "markdown",
   "metadata": {},
   "source": [
    "**Creating a new dataset where the genres are separated**"
   ]
  },
  {
   "cell_type": "code",
   "execution_count": 31,
   "metadata": {},
   "outputs": [],
   "source": [
    "# Using df.explode() to split each row so that it has a singular genre.\n",
    "\n",
    "expl_clean_genres = clean_genres.explode('genres')"
   ]
  },
  {
   "cell_type": "code",
   "execution_count": 32,
   "metadata": {},
   "outputs": [
    {
     "data": {
      "text/html": [
       "<div>\n",
       "<style scoped>\n",
       "    .dataframe tbody tr th:only-of-type {\n",
       "        vertical-align: middle;\n",
       "    }\n",
       "\n",
       "    .dataframe tbody tr th {\n",
       "        vertical-align: top;\n",
       "    }\n",
       "\n",
       "    .dataframe thead th {\n",
       "        text-align: right;\n",
       "    }\n",
       "</style>\n",
       "<table border=\"1\" class=\"dataframe\">\n",
       "  <thead>\n",
       "    <tr style=\"text-align: right;\">\n",
       "      <th></th>\n",
       "      <th>movie_id</th>\n",
       "      <th>primary_title</th>\n",
       "      <th>original_title</th>\n",
       "      <th>start_year</th>\n",
       "      <th>runtime_minutes</th>\n",
       "      <th>genres</th>\n",
       "      <th>averagerating</th>\n",
       "      <th>numvotes</th>\n",
       "    </tr>\n",
       "  </thead>\n",
       "  <tbody>\n",
       "    <tr>\n",
       "      <th>7066</th>\n",
       "      <td>tt1375666</td>\n",
       "      <td>Inception</td>\n",
       "      <td>Inception</td>\n",
       "      <td>2010</td>\n",
       "      <td>148.0</td>\n",
       "      <td>Action</td>\n",
       "      <td>8.8</td>\n",
       "      <td>1841066.0</td>\n",
       "    </tr>\n",
       "    <tr>\n",
       "      <th>7066</th>\n",
       "      <td>tt1375666</td>\n",
       "      <td>Inception</td>\n",
       "      <td>Inception</td>\n",
       "      <td>2010</td>\n",
       "      <td>148.0</td>\n",
       "      <td>Adventure</td>\n",
       "      <td>8.8</td>\n",
       "      <td>1841066.0</td>\n",
       "    </tr>\n",
       "    <tr>\n",
       "      <th>7066</th>\n",
       "      <td>tt1375666</td>\n",
       "      <td>Inception</td>\n",
       "      <td>Inception</td>\n",
       "      <td>2010</td>\n",
       "      <td>148.0</td>\n",
       "      <td>Sci-Fi</td>\n",
       "      <td>8.8</td>\n",
       "      <td>1841066.0</td>\n",
       "    </tr>\n",
       "    <tr>\n",
       "      <th>6900</th>\n",
       "      <td>tt1345836</td>\n",
       "      <td>The Dark Knight Rises</td>\n",
       "      <td>The Dark Knight Rises</td>\n",
       "      <td>2012</td>\n",
       "      <td>164.0</td>\n",
       "      <td>Action</td>\n",
       "      <td>8.4</td>\n",
       "      <td>1387769.0</td>\n",
       "    </tr>\n",
       "    <tr>\n",
       "      <th>6900</th>\n",
       "      <td>tt1345836</td>\n",
       "      <td>The Dark Knight Rises</td>\n",
       "      <td>The Dark Knight Rises</td>\n",
       "      <td>2012</td>\n",
       "      <td>164.0</td>\n",
       "      <td>Thriller</td>\n",
       "      <td>8.4</td>\n",
       "      <td>1387769.0</td>\n",
       "    </tr>\n",
       "  </tbody>\n",
       "</table>\n",
       "</div>"
      ],
      "text/plain": [
       "       movie_id          primary_title         original_title  start_year  \\\n",
       "7066  tt1375666              Inception              Inception        2010   \n",
       "7066  tt1375666              Inception              Inception        2010   \n",
       "7066  tt1375666              Inception              Inception        2010   \n",
       "6900  tt1345836  The Dark Knight Rises  The Dark Knight Rises        2012   \n",
       "6900  tt1345836  The Dark Knight Rises  The Dark Knight Rises        2012   \n",
       "\n",
       "      runtime_minutes     genres  averagerating   numvotes  \n",
       "7066            148.0     Action            8.8  1841066.0  \n",
       "7066            148.0  Adventure            8.8  1841066.0  \n",
       "7066            148.0     Sci-Fi            8.8  1841066.0  \n",
       "6900            164.0     Action            8.4  1387769.0  \n",
       "6900            164.0   Thriller            8.4  1387769.0  "
      ]
     },
     "execution_count": 32,
     "metadata": {},
     "output_type": "execute_result"
    }
   ],
   "source": [
    "expl_clean_genres.head()"
   ]
  },
  {
   "cell_type": "code",
   "execution_count": 33,
   "metadata": {},
   "outputs": [
    {
     "data": {
      "text/plain": [
       "genres\n",
       "Drama          30784\n",
       "Documentary    17748\n",
       "Comedy         17289\n",
       "Thriller        8212\n",
       "Horror          7672\n",
       "Action          6986\n",
       "Romance         6586\n",
       "Crime           4610\n",
       "Adventure       3817\n",
       "Biography       3807\n",
       "Family          3411\n",
       "Mystery         3038\n",
       "History         2825\n",
       "Sci-Fi          2206\n",
       "Fantasy         2126\n",
       "Music           1967\n",
       "Animation       1742\n",
       "Sport           1179\n",
       "War              853\n",
       "Musical          721\n",
       "News             579\n",
       "Western          280\n",
       "Reality-TV        17\n",
       "Adult              3\n",
       "Game-Show          2\n",
       "Short              1\n",
       "Name: count, dtype: int64"
      ]
     },
     "execution_count": 33,
     "metadata": {},
     "output_type": "execute_result"
    }
   ],
   "source": [
    "expl_clean_genres['genres'].value_counts()"
   ]
  },
  {
   "cell_type": "markdown",
   "metadata": {},
   "source": [
    "### Dropping titles in noisy genres\n",
    "\n",
    "**There are four genres with particularly low counts.** They might introduce noise our analysis when we take the average of `numvotes` and `averagerating` by genre later on. Additionally, they're not traditional movie genres. It's best to drop those genres:\n",
    "- Reality-TV\n",
    "- Adult\n",
    "- Game-Show\n",
    "- Short"
   ]
  },
  {
   "cell_type": "code",
   "execution_count": 34,
   "metadata": {},
   "outputs": [],
   "source": [
    "# Gathering together the 'movie_id' for each entry in these four genres.\n",
    "\n",
    "titles_in_noisy_genres = (\n",
    "    expl_clean_genres[expl_clean_genres['genres'].isin([\n",
    "        'Game-Show', 'Short', 'Adult','Reality-TV'\n",
    "    ])]['movie_id']\n",
    ")"
   ]
  },
  {
   "cell_type": "markdown",
   "metadata": {},
   "source": [
    "Below, I us `df.drop()` to get rid of entries with the genres listed above I do this in a *for loop* so that it gets applied to all three versions of our dataframe that we might still use going forward:\n",
    "- `movies_w_ratings_imdb`\n",
    "- `clean_genres`\n",
    "- `expl_clean_genres`"
   ]
  },
  {
   "cell_type": "code",
   "execution_count": 35,
   "metadata": {},
   "outputs": [],
   "source": [
    "# I used this as a model to make sure the operation works, before doing it inplace.\n",
    "\n",
    "# clean_genres.drop(index=clean_genres[clean_genres['movie_id'].isin(titles_in_noisy_genres)].index)"
   ]
  },
  {
   "cell_type": "code",
   "execution_count": 36,
   "metadata": {
    "scrolled": true
   },
   "outputs": [],
   "source": [
    "for dataset in [clean_genres, expl_clean_genres, movies_w_ratings_imdb]:\n",
    "    dataset.drop(\n",
    "        index=dataset[\n",
    "            dataset['movie_id'].isin(titles_in_noisy_genres)\n",
    "        ].index, \n",
    "        inplace=True)"
   ]
  },
  {
   "cell_type": "code",
   "execution_count": 37,
   "metadata": {
    "scrolled": true
   },
   "outputs": [
    {
     "data": {
      "text/plain": [
       "genres\n",
       "Drama          30779\n",
       "Documentary    17738\n",
       "Comedy         17285\n",
       "Thriller        8211\n",
       "Horror          7671\n",
       "Action          6984\n",
       "Romance         6586\n",
       "Crime           4610\n",
       "Adventure       3815\n",
       "Biography       3806\n",
       "Family          3411\n",
       "Mystery         3038\n",
       "History         2824\n",
       "Sci-Fi          2206\n",
       "Fantasy         2126\n",
       "Music           1966\n",
       "Animation       1742\n",
       "Sport           1179\n",
       "War              853\n",
       "Musical          721\n",
       "News             578\n",
       "Western          280\n",
       "Name: count, dtype: int64"
      ]
     },
     "execution_count": 37,
     "metadata": {},
     "output_type": "execute_result"
    }
   ],
   "source": [
    "# Confirming that this worked\n",
    "\n",
    "expl_clean_genres['genres'].value_counts()"
   ]
  },
  {
   "cell_type": "markdown",
   "metadata": {},
   "source": [
    "## Measuring Success\n",
    "\n",
    "I plan to use rating and **number of votes** as an indicator of a movie's of success. In the streaming age, this is arguably a better indicator of a movie's popularity as opposed to return on investment at the box office.\n",
    "\n",
    "I also want to explore the relationshop between a movie's vote count and average rating. Just because a movie has been voted on a lot doesn't mean that it's well-received. \n",
    "\n",
    "#### Here, I start to explore the distributrions of `averagerating` and `numvotes`."
   ]
  },
  {
   "cell_type": "code",
   "execution_count": 38,
   "metadata": {},
   "outputs": [
    {
     "data": {
      "image/png": "[encoded data removed]",
      "text/plain": [
       "<Figure size 1000x500 with 4 Axes>"
      ]
     },
     "metadata": {},
     "output_type": "display_data"
    }
   ],
   "source": [
    "fig, ((ax_rating_box, ax_rating_hist), (ax_votes_box, ax_votes_hist)) = plt.subplots(\n",
    "    nrows=2, ncols=2, figsize=(10,5))\n",
    "\n",
    "# Top row\n",
    "ax_rating_box.boxplot(movies_w_ratings_imdb['averagerating'], vert=False, )\n",
    "ax_rating_box.set_xlabel('Average Rating')\n",
    "\n",
    "ax_rating_hist.hist(movies_w_ratings_imdb['averagerating'])\n",
    "ax_rating_hist.set_xlabel('Average Rating')\n",
    "\n",
    "###\n",
    "\n",
    "# Bottom row\n",
    "ax_votes_box.boxplot(movies_w_ratings_imdb['numvotes'], vert=False)\n",
    "ax_votes_box.set_xlabel('Vote Count')\n",
    "\n",
    "ax_votes_hist.hist(movies_w_ratings_imdb['numvotes'], bins=20)\n",
    "ax_votes_hist.set_xlabel('Vote Count')\n",
    "\n",
    "plt.tight_layout(pad=1)\n"
   ]
  },
  {
   "cell_type": "markdown",
   "metadata": {},
   "source": [
    "**The distribution of vote counts is clearly very skewed.**\n",
    "\n",
    "There's a disproportionate number of titles with low vote counts.\n",
    "\n",
    "Taking a look at these titles."
   ]
  },
  {
   "cell_type": "code",
   "execution_count": 39,
   "metadata": {
    "scrolled": true
   },
   "outputs": [
    {
     "data": {
      "text/plain": [
       "3564.0968895098"
      ]
     },
     "execution_count": 39,
     "metadata": {},
     "output_type": "execute_result"
    }
   ],
   "source": [
    "mean_votes = movies_w_ratings_imdb['numvotes'].mean()\n",
    "mean_votes"
   ]
  },
  {
   "cell_type": "code",
   "execution_count": 40,
   "metadata": {},
   "outputs": [
    {
     "data": {
      "text/plain": [
       "51.0"
      ]
     },
     "execution_count": 40,
     "metadata": {},
     "output_type": "execute_result"
    }
   ],
   "source": [
    "median_votes = movies_w_ratings_imdb['numvotes'].median()\n",
    "median_votes"
   ]
  },
  {
   "cell_type": "code",
   "execution_count": 41,
   "metadata": {},
   "outputs": [
    {
     "data": {
      "text/plain": [
       "1621.0"
      ]
     },
     "execution_count": 41,
     "metadata": {},
     "output_type": "execute_result"
    }
   ],
   "source": [
    "q90_votes = movies_w_ratings_imdb['numvotes'].quantile(.90)\n",
    "q90_votes"
   ]
  },
  {
   "cell_type": "code",
   "execution_count": 42,
   "metadata": {
    "scrolled": true
   },
   "outputs": [
    {
     "data": {
      "text/html": [
       "<div>\n",
       "<style scoped>\n",
       "    .dataframe tbody tr th:only-of-type {\n",
       "        vertical-align: middle;\n",
       "    }\n",
       "\n",
       "    .dataframe tbody tr th {\n",
       "        vertical-align: top;\n",
       "    }\n",
       "\n",
       "    .dataframe thead th {\n",
       "        text-align: right;\n",
       "    }\n",
       "</style>\n",
       "<table border=\"1\" class=\"dataframe\">\n",
       "  <thead>\n",
       "    <tr style=\"text-align: right;\">\n",
       "      <th></th>\n",
       "      <th>movie_id</th>\n",
       "      <th>primary_title</th>\n",
       "      <th>original_title</th>\n",
       "      <th>start_year</th>\n",
       "      <th>runtime_minutes</th>\n",
       "      <th>genres</th>\n",
       "      <th>averagerating</th>\n",
       "      <th>numvotes</th>\n",
       "    </tr>\n",
       "  </thead>\n",
       "  <tbody>\n",
       "    <tr>\n",
       "      <th>136275</th>\n",
       "      <td>tt8675230</td>\n",
       "      <td>Sisters of the Wilderness</td>\n",
       "      <td>Sisters of the Wilderness</td>\n",
       "      <td>2018</td>\n",
       "      <td>90.0</td>\n",
       "      <td>Documentary</td>\n",
       "      <td>8.2</td>\n",
       "      <td>8.0</td>\n",
       "    </tr>\n",
       "    <tr>\n",
       "      <th>65287</th>\n",
       "      <td>tt3729914</td>\n",
       "      <td>The Preacher's Son</td>\n",
       "      <td>The Preacher's Son</td>\n",
       "      <td>2017</td>\n",
       "      <td>110.0</td>\n",
       "      <td>Drama,Mystery,Romance</td>\n",
       "      <td>5.8</td>\n",
       "      <td>224.0</td>\n",
       "    </tr>\n",
       "    <tr>\n",
       "      <th>101896</th>\n",
       "      <td>tt5957630</td>\n",
       "      <td>Una hermana</td>\n",
       "      <td>Una hermana</td>\n",
       "      <td>2016</td>\n",
       "      <td>69.0</td>\n",
       "      <td>Drama</td>\n",
       "      <td>5.8</td>\n",
       "      <td>24.0</td>\n",
       "    </tr>\n",
       "    <tr>\n",
       "      <th>60498</th>\n",
       "      <td>tt3502802</td>\n",
       "      <td>Evidence of a Haunting</td>\n",
       "      <td>Evidence of a Haunting</td>\n",
       "      <td>2010</td>\n",
       "      <td>80.0</td>\n",
       "      <td>Drama,Fantasy,Horror</td>\n",
       "      <td>2.7</td>\n",
       "      <td>93.0</td>\n",
       "    </tr>\n",
       "    <tr>\n",
       "      <th>77564</th>\n",
       "      <td>tt4446656</td>\n",
       "      <td>Fifty Shades Uncovered</td>\n",
       "      <td>Fifty Shades Uncovered</td>\n",
       "      <td>2015</td>\n",
       "      <td>75.0</td>\n",
       "      <td>Documentary</td>\n",
       "      <td>4.4</td>\n",
       "      <td>184.0</td>\n",
       "    </tr>\n",
       "    <tr>\n",
       "      <th>110828</th>\n",
       "      <td>tt6466464</td>\n",
       "      <td>The Monkey King 3</td>\n",
       "      <td>Xi you ji zhi nü er guo</td>\n",
       "      <td>2018</td>\n",
       "      <td>114.0</td>\n",
       "      <td>Action,Adventure,Fantasy</td>\n",
       "      <td>5.5</td>\n",
       "      <td>973.0</td>\n",
       "    </tr>\n",
       "    <tr>\n",
       "      <th>30896</th>\n",
       "      <td>tt2176378</td>\n",
       "      <td>Not in Tel Aviv</td>\n",
       "      <td>Not in Tel Aviv</td>\n",
       "      <td>2012</td>\n",
       "      <td>84.0</td>\n",
       "      <td>Comedy,Crime,Drama</td>\n",
       "      <td>6.0</td>\n",
       "      <td>96.0</td>\n",
       "    </tr>\n",
       "    <tr>\n",
       "      <th>6437</th>\n",
       "      <td>tt1297923</td>\n",
       "      <td>In the Land of the Free...</td>\n",
       "      <td>In the Land of the Free...</td>\n",
       "      <td>2010</td>\n",
       "      <td>84.0</td>\n",
       "      <td>Documentary</td>\n",
       "      <td>7.3</td>\n",
       "      <td>46.0</td>\n",
       "    </tr>\n",
       "    <tr>\n",
       "      <th>89432</th>\n",
       "      <td>tt5170150</td>\n",
       "      <td>Kettling of the Voices</td>\n",
       "      <td>Kettling of the Voices</td>\n",
       "      <td>2015</td>\n",
       "      <td>84.0</td>\n",
       "      <td>Documentary,History,News</td>\n",
       "      <td>7.0</td>\n",
       "      <td>14.0</td>\n",
       "    </tr>\n",
       "    <tr>\n",
       "      <th>75220</th>\n",
       "      <td>tt4295070</td>\n",
       "      <td>Finding Phong</td>\n",
       "      <td>Finding Phong</td>\n",
       "      <td>2015</td>\n",
       "      <td>92.0</td>\n",
       "      <td>Biography,Documentary,Drama</td>\n",
       "      <td>7.9</td>\n",
       "      <td>41.0</td>\n",
       "    </tr>\n",
       "  </tbody>\n",
       "</table>\n",
       "</div>"
      ],
      "text/plain": [
       "         movie_id               primary_title              original_title  \\\n",
       "136275  tt8675230   Sisters of the Wilderness   Sisters of the Wilderness   \n",
       "65287   tt3729914          The Preacher's Son          The Preacher's Son   \n",
       "101896  tt5957630                 Una hermana                 Una hermana   \n",
       "60498   tt3502802      Evidence of a Haunting      Evidence of a Haunting   \n",
       "77564   tt4446656      Fifty Shades Uncovered      Fifty Shades Uncovered   \n",
       "110828  tt6466464           The Monkey King 3     Xi you ji zhi nü er guo   \n",
       "30896   tt2176378             Not in Tel Aviv             Not in Tel Aviv   \n",
       "6437    tt1297923  In the Land of the Free...  In the Land of the Free...   \n",
       "89432   tt5170150      Kettling of the Voices      Kettling of the Voices   \n",
       "75220   tt4295070               Finding Phong               Finding Phong   \n",
       "\n",
       "        start_year  runtime_minutes                       genres  \\\n",
       "136275        2018             90.0                  Documentary   \n",
       "65287         2017            110.0        Drama,Mystery,Romance   \n",
       "101896        2016             69.0                        Drama   \n",
       "60498         2010             80.0         Drama,Fantasy,Horror   \n",
       "77564         2015             75.0                  Documentary   \n",
       "110828        2018            114.0     Action,Adventure,Fantasy   \n",
       "30896         2012             84.0           Comedy,Crime,Drama   \n",
       "6437          2010             84.0                  Documentary   \n",
       "89432         2015             84.0     Documentary,History,News   \n",
       "75220         2015             92.0  Biography,Documentary,Drama   \n",
       "\n",
       "        averagerating  numvotes  \n",
       "136275            8.2       8.0  \n",
       "65287             5.8     224.0  \n",
       "101896            5.8      24.0  \n",
       "60498             2.7      93.0  \n",
       "77564             4.4     184.0  \n",
       "110828            5.5     973.0  \n",
       "30896             6.0      96.0  \n",
       "6437              7.3      46.0  \n",
       "89432             7.0      14.0  \n",
       "75220             7.9      41.0  "
      ]
     },
     "execution_count": 42,
     "metadata": {},
     "output_type": "execute_result"
    }
   ],
   "source": [
    "# Taking a look at the bottom 90 percent of movies\n",
    "# in terms of number of votes\n",
    "\n",
    "movies_w_ratings_imdb.query(f\"numvotes < {q90_votes}\").sample(10)"
   ]
  },
  {
   "cell_type": "markdown",
   "metadata": {},
   "source": [
    "**This is *most* of our current dataset. But again, we don't want niche, lesser-known titles to pollute our conclusions.** The reality is that in the film industry, a ton of content is made, and only a select few are known to the common viewer. We want our analysis to be based on the most well-known movies. A client like Microsoft will want to model its movie business on titles that have broad appeal or are at least well-known.\n",
    "\n",
    "Below, we drop all movies from our current datasets except those whose number of votes is in the top 10 percent."
   ]
  },
  {
   "cell_type": "code",
   "execution_count": 43,
   "metadata": {},
   "outputs": [],
   "source": [
    "#Using a for loop again to drop these titles from the 3 datasets we're still using\n",
    "\n",
    "for dataset in [\n",
    "    clean_genres, \n",
    "    expl_clean_genres,\n",
    "    movies_w_ratings_imdb\n",
    "]:\n",
    "    dataset.drop(\n",
    "        index=dataset.query(f\"numvotes < {q90_votes}\").index, \n",
    "        inplace=True\n",
    "    )"
   ]
  },
  {
   "cell_type": "code",
   "execution_count": 44,
   "metadata": {
    "scrolled": true
   },
   "outputs": [
    {
     "data": {
      "text/plain": [
       "(7304, 8)"
      ]
     },
     "execution_count": 44,
     "metadata": {},
     "output_type": "execute_result"
    }
   ],
   "source": [
    "movies_w_ratings_imdb.shape"
   ]
  },
  {
   "cell_type": "markdown",
   "metadata": {},
   "source": [
    "**We are left with a dataset with 7,304 movies. Let's look at those distributions again.**"
   ]
  },
  {
   "cell_type": "code",
   "execution_count": 47,
   "metadata": {},
   "outputs": [
    {
     "data": {
      "image/png": "[encoded data removed]",
      "text/plain": [
       "<Figure size 1000x500 with 4 Axes>"
      ]
     },
     "metadata": {},
     "output_type": "display_data"
    }
   ],
   "source": [
    "fig, ((ax_rating_box, ax_rating_hist), (ax_votes_box, ax_votes_hist)) = plt.subplots(\n",
    "    nrows=2, ncols=2, figsize=(10,5))\n",
    "\n",
    "# Top row\n",
    "ax_rating_box.boxplot(movies_w_ratings_imdb['averagerating'], vert=False, )\n",
    "ax_rating_box.set_xlabel('Average Rating')\n",
    "\n",
    "ax_rating_hist.hist(movies_w_ratings_imdb['averagerating'])\n",
    "ax_rating_hist.set_xlabel('Average Rating')\n",
    "ax_rating_hist.set_ylabel('Number of Movies')\n",
    "\n",
    "###\n",
    "\n",
    "# Bottom row\n",
    "ax_votes_box.boxplot(movies_w_ratings_imdb['numvotes'], vert=False)\n",
    "ax_votes_box.set_xlabel('Vote Count')\n",
    "\n",
    "ax_votes_hist.hist(movies_w_ratings_imdb['numvotes'], bins=20)\n",
    "ax_votes_hist.set_xlabel('Vote Count')\n",
    "ax_votes_hist.set_ylabel('Number of Movies')\n",
    "\n",
    "plt.tight_layout(pad=1)\n"
   ]
  },
  {
   "cell_type": "markdown",
   "metadata": {},
   "source": [
    "**This *slightly* improved the workability of these distributions, but they're still skewed, even after we dumped most of the dataset.** This is going to be impossible to avoid due to the massive amount of content out there. \n",
    "\n",
    "Now, let's see what kind of relationship there is between number of votes and rating."
   ]
  },
  {
   "cell_type": "code",
   "execution_count": null,
   "metadata": {},
   "outputs": [
    {
     "name": "stdout",
     "output_type": "stream",
     "text": [
      "Correlation between number of votes and average rating: 0.2126063733913749\n"
     ]
    }
   ],
   "source": [
    "# Checking the correlation coefficient of average raring and number of votes\n",
    "\n",
    "print('Correlation between number of votes and average rating: {}'.format(\n",
    "    np.corrcoef(\n",
    "        movies_w_ratings_imdb['numvotes'],\n",
    "        movies_w_ratings_imdb['averagerating'])[0,1]\n",
    "))"
   ]
  },
  {
   "cell_type": "code",
   "execution_count": null,
   "metadata": {
    "scrolled": true
   },
   "outputs": [
    {
     "data": {
      "image/png": "[encoded data removed]",
      "text/plain": [
       "<Figure size 500x300 with 1 Axes>"
      ]
     },
     "metadata": {},
     "output_type": "display_data"
    }
   ],
   "source": [
    "# Plotting the relationship between average rating and number of votes\n",
    "\n",
    "fig, ax = plt.subplots(figsize=(5,3))\n",
    "\n",
    "ax.scatter(\n",
    "    x=movies_w_ratings_imdb['averagerating'],\n",
    "    y=movies_w_ratings_imdb['numvotes'],\n",
    ")\n",
    "\n",
    "ax.set_xlabel('Average Rating')\n",
    "ax.set_ylabel('Number of Votes (millions)')\n",
    "plt.suptitle('Relationship between average movie rating and number of votes')\n",
    "\n",
    "plt.savefig('./images/scatter-votes-rating.png', dpi=150);"
   ]
  },
  {
   "cell_type": "markdown",
   "metadata": {},
   "source": [
    "**There's a positive relationship between average rating and number of votes.**\n",
    "\n",
    "I am inferring that a higher number of votes means that more people have seen the movie, regardless of the actual rating they voted for. I am also assuming that that Microsoft wants to make movies that are **more likely to be seen**, regardless of whether or not they're critically acclaimed.\n",
    "\n",
    "**Therefore, our measure of success will be number of votes.** In choosing this as our measure of success, we are also reassured that that it's generally associated with a higher movie rating.\n",
    "\n",
    "Because the distributions are skewed, we'll use median to measure the average.\n",
    "\n"
   ]
  },
  {
   "cell_type": "markdown",
   "metadata": {},
   "source": [
    "## Question 1: \n",
    "### What are the top 10 genres Microsoft should focus on?"
   ]
  },
  {
   "cell_type": "markdown",
   "metadata": {},
   "source": [
    "Below, we group movies by genre and see the medians of `numvotes` for each genre."
   ]
  },
  {
   "cell_type": "code",
   "execution_count": null,
   "metadata": {},
   "outputs": [
    {
     "data": {
      "text/html": [
       "<div>\n",
       "<style scoped>\n",
       "    .dataframe tbody tr th:only-of-type {\n",
       "        vertical-align: middle;\n",
       "    }\n",
       "\n",
       "    .dataframe tbody tr th {\n",
       "        vertical-align: top;\n",
       "    }\n",
       "\n",
       "    .dataframe thead th {\n",
       "        text-align: right;\n",
       "    }\n",
       "</style>\n",
       "<table border=\"1\" class=\"dataframe\">\n",
       "  <thead>\n",
       "    <tr style=\"text-align: right;\">\n",
       "      <th></th>\n",
       "      <th>genres</th>\n",
       "      <th>numvotes</th>\n",
       "    </tr>\n",
       "  </thead>\n",
       "  <tbody>\n",
       "    <tr>\n",
       "      <th>0</th>\n",
       "      <td>Adventure</td>\n",
       "      <td>16484.0</td>\n",
       "    </tr>\n",
       "    <tr>\n",
       "      <th>1</th>\n",
       "      <td>Fantasy</td>\n",
       "      <td>10546.0</td>\n",
       "    </tr>\n",
       "    <tr>\n",
       "      <th>2</th>\n",
       "      <td>Sci-Fi</td>\n",
       "      <td>10067.0</td>\n",
       "    </tr>\n",
       "    <tr>\n",
       "      <th>3</th>\n",
       "      <td>Animation</td>\n",
       "      <td>9354.0</td>\n",
       "    </tr>\n",
       "    <tr>\n",
       "      <th>4</th>\n",
       "      <td>Mystery</td>\n",
       "      <td>8494.0</td>\n",
       "    </tr>\n",
       "    <tr>\n",
       "      <th>5</th>\n",
       "      <td>Western</td>\n",
       "      <td>8284.5</td>\n",
       "    </tr>\n",
       "    <tr>\n",
       "      <th>6</th>\n",
       "      <td>Action</td>\n",
       "      <td>7543.5</td>\n",
       "    </tr>\n",
       "    <tr>\n",
       "      <th>7</th>\n",
       "      <td>Crime</td>\n",
       "      <td>7414.0</td>\n",
       "    </tr>\n",
       "    <tr>\n",
       "      <th>8</th>\n",
       "      <td>Biography</td>\n",
       "      <td>6560.0</td>\n",
       "    </tr>\n",
       "    <tr>\n",
       "      <th>9</th>\n",
       "      <td>Romance</td>\n",
       "      <td>6540.5</td>\n",
       "    </tr>\n",
       "    <tr>\n",
       "      <th>10</th>\n",
       "      <td>Family</td>\n",
       "      <td>6322.0</td>\n",
       "    </tr>\n",
       "    <tr>\n",
       "      <th>11</th>\n",
       "      <td>Comedy</td>\n",
       "      <td>6293.0</td>\n",
       "    </tr>\n",
       "    <tr>\n",
       "      <th>12</th>\n",
       "      <td>Drama</td>\n",
       "      <td>6081.5</td>\n",
       "    </tr>\n",
       "    <tr>\n",
       "      <th>13</th>\n",
       "      <td>Thriller</td>\n",
       "      <td>5920.5</td>\n",
       "    </tr>\n",
       "    <tr>\n",
       "      <th>14</th>\n",
       "      <td>Music</td>\n",
       "      <td>5695.0</td>\n",
       "    </tr>\n",
       "    <tr>\n",
       "      <th>15</th>\n",
       "      <td>History</td>\n",
       "      <td>5536.0</td>\n",
       "    </tr>\n",
       "    <tr>\n",
       "      <th>16</th>\n",
       "      <td>Horror</td>\n",
       "      <td>5415.0</td>\n",
       "    </tr>\n",
       "    <tr>\n",
       "      <th>17</th>\n",
       "      <td>War</td>\n",
       "      <td>5347.5</td>\n",
       "    </tr>\n",
       "    <tr>\n",
       "      <th>18</th>\n",
       "      <td>Musical</td>\n",
       "      <td>4583.0</td>\n",
       "    </tr>\n",
       "    <tr>\n",
       "      <th>19</th>\n",
       "      <td>Sport</td>\n",
       "      <td>4454.0</td>\n",
       "    </tr>\n",
       "    <tr>\n",
       "      <th>20</th>\n",
       "      <td>News</td>\n",
       "      <td>3477.0</td>\n",
       "    </tr>\n",
       "    <tr>\n",
       "      <th>21</th>\n",
       "      <td>Documentary</td>\n",
       "      <td>3442.0</td>\n",
       "    </tr>\n",
       "  </tbody>\n",
       "</table>\n",
       "</div>"
      ],
      "text/plain": [
       "         genres  numvotes\n",
       "0     Adventure   16484.0\n",
       "1       Fantasy   10546.0\n",
       "2        Sci-Fi   10067.0\n",
       "3     Animation    9354.0\n",
       "4       Mystery    8494.0\n",
       "5       Western    8284.5\n",
       "6        Action    7543.5\n",
       "7         Crime    7414.0\n",
       "8     Biography    6560.0\n",
       "9       Romance    6540.5\n",
       "10       Family    6322.0\n",
       "11       Comedy    6293.0\n",
       "12        Drama    6081.5\n",
       "13     Thriller    5920.5\n",
       "14        Music    5695.0\n",
       "15      History    5536.0\n",
       "16       Horror    5415.0\n",
       "17          War    5347.5\n",
       "18      Musical    4583.0\n",
       "19        Sport    4454.0\n",
       "20         News    3477.0\n",
       "21  Documentary    3442.0"
      ]
     },
     "execution_count": 48,
     "metadata": {},
     "output_type": "execute_result"
    }
   ],
   "source": [
    "# Pivot table showing the average of numvotes by genre.\n",
    "\n",
    "pivot_genres = pd.pivot_table(\n",
    "    data=expl_clean_genres,\n",
    "    values=['numvotes'],\n",
    "    index='genres',\n",
    "    aggfunc=np.median\n",
    ").sort_values(by='numvotes', ascending=False).reset_index()\n",
    "\n",
    "pivot_genres"
   ]
  },
  {
   "cell_type": "markdown",
   "metadata": {},
   "source": [
    "Now that we finally have aggregate measures based on genres, we can analyze which genres are most successful."
   ]
  },
  {
   "cell_type": "code",
   "execution_count": null,
   "metadata": {},
   "outputs": [
    {
     "data": {
      "image/png": "[encoded data removed]",
      "text/plain": [
       "<Figure size 800x550 with 1 Axes>"
      ]
     },
     "metadata": {},
     "output_type": "display_data"
    }
   ],
   "source": [
    "values = pivot_genres['numvotes']\n",
    "labels = pivot_genres['genres']\n",
    "\n",
    "genres_barplot = sns.barplot(\n",
    "    x=values,\n",
    "    y=labels,\n",
    "    orient='h',\n",
    "#     palette='crest_r'\n",
    "    palette=['#000099' if (x > values[10]) else '#3333ff' for x in values]\n",
    "    )\n",
    "\n",
    "genres_barplot.set(\n",
    "    xlabel='Average number of votes on IMDb',\n",
    "    ylabel='Genre',\n",
    "    title ='Average vote count on movies by genre \\n (Top 10% of movies)'\n",
    "    );\n",
    "\n",
    "plt.savefig('./images/top_genres', dpi=150)"
   ]
  },
  {
   "cell_type": "code",
   "execution_count": null,
   "metadata": {},
   "outputs": [
    {
     "name": "stdout",
     "output_type": "stream",
     "text": [
      "The top 10 genres in terms of average number of votes on IMDb are:\n",
      "\n",
      "Adventure\n",
      "Fantasy\n",
      "Sci-Fi\n",
      "Animation\n",
      "Mystery\n",
      "Western\n",
      "Action\n",
      "Crime\n",
      "Biography\n",
      "Romance\n"
     ]
    }
   ],
   "source": [
    "print('The top 10 genres in terms of average number of votes on IMDb are:')\n",
    "print()\n",
    "for g in pivot_genres.iloc[:10]['genres']:\n",
    "    print(g)"
   ]
  },
  {
   "cell_type": "markdown",
   "metadata": {},
   "source": [
    "#### The genres listed above are the best performing on IMDb.\n",
    "\n",
    "That doesn't mean these genres perform well on their own. It's important to remember that we split up the genres before we did this analysis. That means a sci-fi movie that is also a comedy movie might also perform well.\n",
    "\n",
    "**Conclusion 1:**\n",
    "Microsoft should focus on movies that include combinations of the following genres:\n",
    "- Adventure\n",
    "- Fantasy\n",
    "- Sci-Fi\n",
    "- Animation\n",
    "- Mystery\n",
    "- Western\n",
    "- Action\n",
    "- Crime\n",
    "- Biography\n",
    "- Romance"
   ]
  },
  {
   "cell_type": "markdown",
   "metadata": {},
   "source": [
    "--- \n",
    "---"
   ]
  },
  {
   "cell_type": "markdown",
   "metadata": {},
   "source": [
    "## Question 2\n",
    "\n",
    "### What proportion of movies should be comedies?\n",
    "\n",
    "**Comedy fans might be dismayed by our first conclusion.** Comedy is a major genre that got wiped out due to the statistical analysis. But wat can we learn from comedies that are among the most successful movies?\n",
    "\n",
    "Recall that our dataset is now essentially a subset that includes the top 10% of movies. Let's see how many of those are comedies.\n",
    "\n",
    "We'll be working with our `clean_genres` dataset moving forward."
   ]
  },
  {
   "cell_type": "code",
   "execution_count": null,
   "metadata": {},
   "outputs": [],
   "source": [
    "# Adding a column to clean_genres with a boolean value \n",
    "# based on whether the movie is a comedy or not\n",
    "\n",
    "clean_genres['is_comedy'] = ['Comedy' in row for row in clean_genres['genres']]"
   ]
  },
  {
   "cell_type": "code",
   "execution_count": null,
   "metadata": {},
   "outputs": [
    {
     "data": {
      "text/html": [
       "<div>\n",
       "<style scoped>\n",
       "    .dataframe tbody tr th:only-of-type {\n",
       "        vertical-align: middle;\n",
       "    }\n",
       "\n",
       "    .dataframe tbody tr th {\n",
       "        vertical-align: top;\n",
       "    }\n",
       "\n",
       "    .dataframe thead th {\n",
       "        text-align: right;\n",
       "    }\n",
       "</style>\n",
       "<table border=\"1\" class=\"dataframe\">\n",
       "  <thead>\n",
       "    <tr style=\"text-align: right;\">\n",
       "      <th></th>\n",
       "      <th>movie_id</th>\n",
       "      <th>primary_title</th>\n",
       "      <th>original_title</th>\n",
       "      <th>start_year</th>\n",
       "      <th>runtime_minutes</th>\n",
       "      <th>genres</th>\n",
       "      <th>averagerating</th>\n",
       "      <th>numvotes</th>\n",
       "      <th>is_comedy</th>\n",
       "    </tr>\n",
       "  </thead>\n",
       "  <tbody>\n",
       "    <tr>\n",
       "      <th>25764</th>\n",
       "      <td>tt2027138</td>\n",
       "      <td>Kyaa Super Kool Hain Hum</td>\n",
       "      <td>Kyaa Super Kool Hain Hum</td>\n",
       "      <td>2012</td>\n",
       "      <td>136.0</td>\n",
       "      <td>[Comedy]</td>\n",
       "      <td>5.0</td>\n",
       "      <td>3428.0</td>\n",
       "      <td>True</td>\n",
       "    </tr>\n",
       "    <tr>\n",
       "      <th>121877</th>\n",
       "      <td>tt7363076</td>\n",
       "      <td>Raid</td>\n",
       "      <td>Raid</td>\n",
       "      <td>2018</td>\n",
       "      <td>122.0</td>\n",
       "      <td>[Action, Crime, Drama]</td>\n",
       "      <td>7.4</td>\n",
       "      <td>11979.0</td>\n",
       "      <td>False</td>\n",
       "    </tr>\n",
       "    <tr>\n",
       "      <th>43309</th>\n",
       "      <td>tt2580382</td>\n",
       "      <td>The Survivalist</td>\n",
       "      <td>The Survivalist</td>\n",
       "      <td>2015</td>\n",
       "      <td>104.0</td>\n",
       "      <td>[Drama, Sci-Fi, Thriller]</td>\n",
       "      <td>6.4</td>\n",
       "      <td>14235.0</td>\n",
       "      <td>False</td>\n",
       "    </tr>\n",
       "    <tr>\n",
       "      <th>5657</th>\n",
       "      <td>tt1135084</td>\n",
       "      <td>Takers</td>\n",
       "      <td>Takers</td>\n",
       "      <td>2010</td>\n",
       "      <td>107.0</td>\n",
       "      <td>[Action, Crime, Thriller]</td>\n",
       "      <td>6.2</td>\n",
       "      <td>53377.0</td>\n",
       "      <td>False</td>\n",
       "    </tr>\n",
       "    <tr>\n",
       "      <th>51340</th>\n",
       "      <td>tt3042800</td>\n",
       "      <td>Nightingale</td>\n",
       "      <td>Nightingale</td>\n",
       "      <td>2014</td>\n",
       "      <td>83.0</td>\n",
       "      <td>[Crime, Drama]</td>\n",
       "      <td>6.4</td>\n",
       "      <td>1628.0</td>\n",
       "      <td>False</td>\n",
       "    </tr>\n",
       "  </tbody>\n",
       "</table>\n",
       "</div>"
      ],
      "text/plain": [
       "         movie_id             primary_title            original_title  \\\n",
       "25764   tt2027138  Kyaa Super Kool Hain Hum  Kyaa Super Kool Hain Hum   \n",
       "121877  tt7363076                      Raid                      Raid   \n",
       "43309   tt2580382           The Survivalist           The Survivalist   \n",
       "5657    tt1135084                    Takers                    Takers   \n",
       "51340   tt3042800               Nightingale               Nightingale   \n",
       "\n",
       "        start_year  runtime_minutes                     genres  averagerating  \\\n",
       "25764         2012            136.0                   [Comedy]            5.0   \n",
       "121877        2018            122.0     [Action, Crime, Drama]            7.4   \n",
       "43309         2015            104.0  [Drama, Sci-Fi, Thriller]            6.4   \n",
       "5657          2010            107.0  [Action, Crime, Thriller]            6.2   \n",
       "51340         2014             83.0             [Crime, Drama]            6.4   \n",
       "\n",
       "        numvotes  is_comedy  \n",
       "25764     3428.0       True  \n",
       "121877   11979.0      False  \n",
       "43309    14235.0      False  \n",
       "5657     53377.0      False  \n",
       "51340     1628.0      False  "
      ]
     },
     "execution_count": 52,
     "metadata": {},
     "output_type": "execute_result"
    }
   ],
   "source": [
    "clean_genres.sample(5)"
   ]
  },
  {
   "cell_type": "code",
   "execution_count": null,
   "metadata": {
    "scrolled": true
   },
   "outputs": [
    {
     "data": {
      "text/plain": [
       "False    5023\n",
       "True     2281\n",
       "Name: is_comedy, dtype: int64"
      ]
     },
     "execution_count": 53,
     "metadata": {},
     "output_type": "execute_result"
    }
   ],
   "source": [
    "# Of the top 10% of movies, how many movies are comedies?\n",
    "\n",
    "comedy_breakdown = clean_genres['is_comedy'].value_counts()\n",
    "comedy_breakdown"
   ]
  },
  {
   "cell_type": "code",
   "execution_count": null,
   "metadata": {
    "scrolled": false
   },
   "outputs": [
    {
     "data": {
      "text/plain": [
       "False    0.687705\n",
       "True     0.312295\n",
       "Name: is_comedy, dtype: float64"
      ]
     },
     "execution_count": 54,
     "metadata": {},
     "output_type": "execute_result"
    }
   ],
   "source": [
    "comedy_breakdown_norm = clean_genres['is_comedy'].value_counts(normalize=True)\n",
    "comedy_breakdown_norm"
   ]
  },
  {
   "cell_type": "code",
   "execution_count": null,
   "metadata": {},
   "outputs": [
    {
     "data": {
      "image/png": "[encoded data removed]",
      "text/plain": [
       "<Figure size 800x550 with 1 Axes>"
      ]
     },
     "metadata": {},
     "output_type": "display_data"
    }
   ],
   "source": [
    "values = comedy_breakdown.values\n",
    "labels = comedy_breakdown.index\n",
    "\n",
    "comedy_plot = sns.barplot(\n",
    "    x=labels,\n",
    "    y=values,\n",
    "    palette=['#000099' if x == False else '#3333ff' for x in labels]\n",
    "    ).set(\n",
    "    xlabel='Comedy or not',\n",
    "    ylabel='Number of movies',\n",
    "    xticklabels=['Not Comedy', 'Comedy'],\n",
    "    title='The top 10% most-voted-on movies'\n",
    ")\n",
    "\n",
    "plt.savefig('./images/comedies', dpi=150)"
   ]
  },
  {
   "cell_type": "markdown",
   "metadata": {},
   "source": [
    "**Of the top 10% best-performing movies, 2,281 out of 7,304 — or 31.22% — are comedies.**"
   ]
  },
  {
   "cell_type": "markdown",
   "metadata": {},
   "source": [
    "**Conclusion 2:** Microsoft should focus about a third of its efforts (in terms of budget or number of movies) on making comedic movies."
   ]
  },
  {
   "cell_type": "markdown",
   "metadata": {},
   "source": [
    "---\n",
    "---"
   ]
  },
  {
   "cell_type": "markdown",
   "metadata": {},
   "source": [
    "## Question 3:\n",
    "\n",
    "### Along the same lines as Question 2:\n",
    "### What proportion of movies should be animated?"
   ]
  },
  {
   "cell_type": "markdown",
   "metadata": {},
   "source": [
    "Repeating the process above for animated movies."
   ]
  },
  {
   "cell_type": "code",
   "execution_count": null,
   "metadata": {},
   "outputs": [],
   "source": [
    "clean_genres['is_animated'] = ['Animation' in row for row in clean_genres['genres']]"
   ]
  },
  {
   "cell_type": "code",
   "execution_count": null,
   "metadata": {},
   "outputs": [
    {
     "data": {
      "text/plain": [
       "False    7017\n",
       "True      287\n",
       "Name: is_animated, dtype: int64"
      ]
     },
     "execution_count": 57,
     "metadata": {},
     "output_type": "execute_result"
    }
   ],
   "source": [
    "animated_breakdown = clean_genres['is_animated'].value_counts()\n",
    "animated_breakdown"
   ]
  },
  {
   "cell_type": "code",
   "execution_count": null,
   "metadata": {},
   "outputs": [
    {
     "data": {
      "text/plain": [
       "False    0.960706\n",
       "True     0.039294\n",
       "Name: is_animated, dtype: float64"
      ]
     },
     "execution_count": 58,
     "metadata": {},
     "output_type": "execute_result"
    }
   ],
   "source": [
    "animated_breakdown_norm = clean_genres['is_animated'].value_counts(normalize=True)\n",
    "animated_breakdown_norm"
   ]
  },
  {
   "cell_type": "code",
   "execution_count": null,
   "metadata": {},
   "outputs": [
    {
     "data": {
      "image/png": "[encoded data removed]",
      "text/plain": [
       "<Figure size 800x550 with 1 Axes>"
      ]
     },
     "metadata": {},
     "output_type": "display_data"
    }
   ],
   "source": [
    "values = animated_breakdown.values\n",
    "labels = animated_breakdown.index\n",
    "\n",
    "animated_plot = sns.barplot(\n",
    "    x=labels,\n",
    "    y=values,\n",
    "    palette=['#000099' if x == False else '#3333ff' for x in labels]\n",
    "    ).set(\n",
    "    xlabel='Animated or not',\n",
    "    ylabel='Number of movies',\n",
    "    xticklabels=['Not Animated', 'Animated'],\n",
    "    title='The top 10% most-voted-on movies'\n",
    ")\n",
    "plt.savefig('./images/animated', dpi=150)"
   ]
  },
  {
   "cell_type": "markdown",
   "metadata": {},
   "source": [
    "**Of the top 10% best-performing movies, 287 out of 7,304, — or 3.93% — are animated.**\n",
    "\n",
    "**Conclusion 3:** Microsoft should focus about 4 percent of its efforts (in terms of budget or number of movies) on making animated movies."
   ]
  },
  {
   "cell_type": "markdown",
   "metadata": {},
   "source": [
    "## Recommendations\n",
    "\n",
    "In this analysis I attemped to determine the most successful movie genres as well as what proportions of movies are comedies or animated. I arrived at three recommendations for what kinds of movies Microsoft should make:\n",
    "\n",
    "1. Microsoft should focus its efforts on movies with some combination of these genres:\n",
    "\n",
    "    - Adventure\n",
    "    - Fantasy\n",
    "    - Sci-Fi\n",
    "    - Animation\n",
    "    - Mystery\n",
    "    - Western\n",
    "    - Action\n",
    "    - Crime\n",
    "    - Biography\n",
    "    - Romance\n",
    "    \n",
    "2. Microsoft should focus about a third of its efforts on comedy movies.\n",
    "\n",
    "3. Microsoft should focus about 4 percent of its efforts on animated movies.\n",
    "___"
   ]
  },
  {
   "cell_type": "markdown",
   "metadata": {},
   "source": [
    "## Next Steps\n",
    "\n",
    "As I mentioned before, I came to these conclusions after dropping 90% of the data I had available to me. I justified this by saying that those were niche movies that barely a thousand or so people on the internet knew of, and that those weren’t the types of movies I’d want to analyze when making recommendations to a multi-billion dollar company like Microsoft.\n",
    "\n",
    "I could further explore this by **answering the same questions for the bottom 90%** as I did for the top 10%. Knowing the differences between the tiers might lead to other helpful insights.\n",
    "\n",
    "Having said that, **the division between the two tiers is arbitrary**; I could have looked at the top 5% or 25%. Another way to go about this would be to merge in a new dataset that told us which movie studio is behind each movie. I could then separate the data into movies made by established, big-budget studios and movies that are not. Looking at the differences among movies in those two tiers might give us different results and possibly lead to different recommendations."
   ]
  }
 ],
 "metadata": {
  "interpreter": {
   "hash": "9066515e2c74396c3dc22ac47132aa38294e007e809df6151bffa6da73189c66"
  },
  "kernelspec": {
   "display_name": "Python 3",
   "language": "python",
   "name": "python3"
  },
  "language_info": {
   "codemirror_mode": {
    "name": "ipython",
    "version": 3
   },
   "file_extension": ".py",
   "mimetype": "text/x-python",
   "name": "python",
   "nbconvert_exporter": "python",
   "pygments_lexer": "ipython3",
   "version": "3.10.12"
  }
 },
 "nbformat": 4,
 "nbformat_minor": 4
}
